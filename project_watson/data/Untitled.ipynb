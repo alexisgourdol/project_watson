{
 "cells": [
  {
   "cell_type": "code",
   "execution_count": 16,
   "metadata": {
    "ExecuteTime": {
     "end_time": "2020-09-11T13:56:34.551460Z",
     "start_time": "2020-09-11T13:56:34.544385Z"
    }
   },
   "outputs": [],
   "source": [
    "import pandas as pd\n",
    "import numpy as np"
   ]
  },
  {
   "cell_type": "code",
   "execution_count": 2,
   "metadata": {
    "ExecuteTime": {
     "end_time": "2020-09-11T13:53:54.766723Z",
     "start_time": "2020-09-11T13:53:54.639612Z"
    }
   },
   "outputs": [],
   "source": [
    "data = pd.read_csv('train.csv')"
   ]
  },
  {
   "cell_type": "code",
   "execution_count": 62,
   "metadata": {
    "ExecuteTime": {
     "end_time": "2020-09-11T15:13:43.236959Z",
     "start_time": "2020-09-11T15:13:43.215044Z"
    }
   },
   "outputs": [
    {
     "data": {
      "text/plain": [
       "array([0, 2, 1])"
      ]
     },
     "execution_count": 62,
     "metadata": {},
     "output_type": "execute_result"
    }
   ],
   "source": [
    "data.label.unique()"
   ]
  },
  {
   "cell_type": "code",
   "execution_count": 54,
   "metadata": {
    "ExecuteTime": {
     "end_time": "2020-09-11T14:11:51.795371Z",
     "start_time": "2020-09-11T14:11:51.780197Z"
    }
   },
   "outputs": [
    {
     "data": {
      "text/plain": [
       "English       6870\n",
       "Chinese        411\n",
       "Arabic         401\n",
       "French         390\n",
       "Swahili        385\n",
       "Urdu           381\n",
       "Vietnamese     379\n",
       "Russian        376\n",
       "Hindi          374\n",
       "Greek          372\n",
       "Thai           371\n",
       "Spanish        366\n",
       "Turkish        351\n",
       "German         351\n",
       "Bulgarian      342\n",
       "Name: language, dtype: int64"
      ]
     },
     "execution_count": 54,
     "metadata": {},
     "output_type": "execute_result"
    }
   ],
   "source": [
    "data[[lqnguqg]]"
   ]
  },
  {
   "cell_type": "code",
   "execution_count": 49,
   "metadata": {
    "ExecuteTime": {
     "end_time": "2020-09-11T14:08:26.440272Z",
     "start_time": "2020-09-11T14:08:26.422337Z"
    }
   },
   "outputs": [
    {
     "data": {
      "text/plain": [
       "'我不会怀疑。 他的领主的语气没有减弱其粗野的性格。'"
      ]
     },
     "execution_count": 49,
     "metadata": {},
     "output_type": "execute_result"
    }
   ],
   "source": [
    "data.premise[data.language == 'Chinese'].reset_index(drop=True)[np.random.randint(0,len(chinese))]"
   ]
  },
  {
   "cell_type": "code",
   "execution_count": 55,
   "metadata": {
    "ExecuteTime": {
     "end_time": "2020-09-11T14:12:38.902759Z",
     "start_time": "2020-09-11T14:12:38.858282Z"
    }
   },
   "outputs": [
    {
     "ename": "NameError",
     "evalue": "name 'xnli' is not defined",
     "output_type": "error",
     "traceback": [
      "\u001b[0;31m------------------------------------------------\u001b[0m",
      "\u001b[0;31mNameError\u001b[0m      Traceback (most recent call last)",
      "\u001b[0;32m<ipython-input-55-22b7bf67b0f7>\u001b[0m in \u001b[0;36m<module>\u001b[0;34m\u001b[0m\n\u001b[0;32m----> 1\u001b[0;31m xnli[\"language\"] = xnli[\"lang_abv\"].map({\n\u001b[0m\u001b[1;32m      2\u001b[0m     \u001b[0;34m\"ur\"\u001b[0m\u001b[0;34m:\u001b[0m \u001b[0;34m\"Urdu\"\u001b[0m\u001b[0;34m,\u001b[0m\u001b[0;34m\u001b[0m\u001b[0;34m\u001b[0m\u001b[0m\n\u001b[1;32m      3\u001b[0m     \u001b[0;34m\"ar\"\u001b[0m\u001b[0;34m:\u001b[0m \u001b[0;34m\"Arabic\"\u001b[0m\u001b[0;34m,\u001b[0m\u001b[0;34m\u001b[0m\u001b[0;34m\u001b[0m\u001b[0m\n\u001b[1;32m      4\u001b[0m     \u001b[0;34m\"zh\"\u001b[0m\u001b[0;34m:\u001b[0m \u001b[0;34m\"Chinese\"\u001b[0m\u001b[0;34m,\u001b[0m\u001b[0;34m\u001b[0m\u001b[0;34m\u001b[0m\u001b[0m\n\u001b[1;32m      5\u001b[0m     \u001b[0;34m\"hi\"\u001b[0m\u001b[0;34m:\u001b[0m \u001b[0;34m\"Hindi\"\u001b[0m\u001b[0;34m,\u001b[0m\u001b[0;34m\u001b[0m\u001b[0;34m\u001b[0m\u001b[0m\n",
      "\u001b[0;31mNameError\u001b[0m: name 'xnli' is not defined"
     ]
    }
   ],
   "source": [
    "xnli[\"language\"] = xnli[\"lang_abv\"].map({\n",
    "    \"ur\": \"Urdu\",\n",
    "    \"ar\": \"Arabic\",\n",
    "    \"zh\": \"Chinese\",\n",
    "    \"hi\": \"Hindi\",\n",
    "    \"ru\": \"Russian\",\n",
    "    \"de\": \"German\",\n",
    "    \"bg\": \"Bulgarian\",\n",
    "    \"tr\": \"Turkish\",\n",
    "    \"es\": \"Spanish\",\n",
    "    \"en\": \"English\",\n",
    "    \"vi\": \"Vietnamese\",\n",
    "    \"el\": \"Greek\",\n",
    "    \"sw\": \"Swahili\",\n",
    "    \"th\": \"Thai\",\n",
    "    \"fr\": \"French\"\n",
    "    })"
   ]
  },
  {
   "cell_type": "code",
   "execution_count": null,
   "metadata": {},
   "outputs": [],
   "source": []
  }
 ],
 "metadata": {
  "kernelspec": {
   "display_name": "Python 3",
   "language": "python",
   "name": "python3"
  },
  "language_info": {
   "codemirror_mode": {
    "name": "ipython",
    "version": 3
   },
   "file_extension": ".py",
   "mimetype": "text/x-python",
   "name": "python",
   "nbconvert_exporter": "python",
   "pygments_lexer": "ipython3",
   "version": "3.7.7"
  },
  "toc": {
   "base_numbering": 1,
   "nav_menu": {},
   "number_sections": true,
   "sideBar": true,
   "skip_h1_title": false,
   "title_cell": "Table of Contents",
   "title_sidebar": "Contents",
   "toc_cell": false,
   "toc_position": {},
   "toc_section_display": true,
   "toc_window_display": false
  }
 },
 "nbformat": 4,
 "nbformat_minor": 4
}
