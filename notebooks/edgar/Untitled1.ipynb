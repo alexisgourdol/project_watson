{
 "cells": [
  {
   "cell_type": "markdown",
   "metadata": {},
   "source": [
    "# GCP TPU Setup"
   ]
  },
  {
   "cell_type": "markdown",
   "metadata": {},
   "source": [
    "## Account Setup and TPU Porject"
   ]
  },
  {
   "cell_type": "markdown",
   "metadata": {},
   "source": [
    "All information can be found in [**Week 7 Day 4 Exercise 1 instructions**](https://kitt.lewagon.com/camps/450/challenges?path=07-Data-Engineering%2F04-Train-at-scale%2F01-GCP-Setup):\n",
    "* Create an account\n",
    "* Create a project\n",
    "* Fill in the billing information\n"
   ]
  },
  {
   "cell_type": "markdown",
   "metadata": {},
   "source": [
    "## Connecting to Cloud Storage Buckets"
   ]
  },
  {
   "cell_type": "markdown",
   "metadata": {},
   "source": [
    "Open google cloud platform terminal and enter **the following sequence of commands**.\n",
    "<details>\n",
    "<summary>Where to find GCP's terminal?</summary>\n",
    "<br>\n",
    "<img src=\"https://cloud.google.com/shell/docs/images/start-cloud-shell-session.gif\"></img>\n",
    "</details>"
   ]
  },
  {
   "cell_type": "markdown",
   "metadata": {},
   "source": [
    "Command 1: **Create a Cloud TPU Service Account for your project.** "
   ]
  },
  {
   "cell_type": "code",
   "execution_count": null,
   "metadata": {},
   "outputs": [],
   "source": [
    "gcloud beta services identity create --service tpu.googleapis.com --project $PROJECT_ID"
   ]
  },
  {
   "cell_type": "markdown",
   "metadata": {},
   "source": [
    "It should return the following statement: *service-PROJECT_NUMBER@cloud-tpu.iam.gserviceaccount.com*"
   ]
  },
  {
   "cell_type": "markdown",
   "metadata": {},
   "source": [
    "Command 2: **Create a variable for your project's ID.**"
   ]
  },
  {
   "cell_type": "code",
   "execution_count": null,
   "metadata": {},
   "outputs": [],
   "source": [
    "export PROJECT_ID=$WAGON_BOOTCAMP_XXXXXX"
   ]
  },
  {
   "cell_type": "markdown",
   "metadata": {},
   "source": [
    "Command 3: **Configure gcloud command-line tool to use the project where you want to create Cloud TPU.**"
   ]
  },
  {
   "cell_type": "code",
   "execution_count": null,
   "metadata": {},
   "outputs": [],
   "source": [
    "gcloud config set project $PROJECT_ID"
   ]
  },
  {
   "cell_type": "markdown",
   "metadata": {},
   "source": [
    "Command 4: **Create a Cloud Storage bucket using the following command.**"
   ]
  },
  {
   "cell_type": "code",
   "execution_count": null,
   "metadata": {},
   "outputs": [],
   "source": [
    "gsutil mb -p ${PROJECT_ID} -c standard -l europe-west4 -b on gs://$CHOOSE_YOUR_BUCKET_NAME"
   ]
  },
  {
   "cell_type": "markdown",
   "metadata": {},
   "source": [
    "Command 5: **Launch a Compute Engine VM and Cloud TPU using the ctpu up command.**"
   ]
  },
  {
   "cell_type": "code",
   "execution_count": null,
   "metadata": {},
   "outputs": [],
   "source": [
    "ctpu up --zone=us-central1-b  \\\n",
    "    --tf-version=2.1 \\\n",
    "    --name=$YOUR_TPU_NAME"
   ]
  },
  {
   "cell_type": "markdown",
   "metadata": {},
   "source": [
    "If GCP does create your TPU, you're good to go to step 6. \n",
    "\n",
    "🚨However, you may get the following message: **TPU quota exceeded on project \"wagon-bootcamp-288408\"**.🚨\n",
    "<details>\n",
    "<summary>If such a message shows up, please follow the dropdown steps.</summary>\n",
    "<br>\n",
    "<ul>\n",
    "    <li>Switch to a premium account. No worries, you'll still get your 300$ worth of free GCP credit.</li>\n",
    "    <li>On your GCP account go to <strong>IAM & ADMIN</strong> > <strong>Quotas</strong>.</li>\n",
    "    <li>Click on <strong>Show Quota Panel</strong>.</li>\n",
    "    <li>Filter the table with the key sentence <strong>CLOUD TPU API</strong>.</li>\n",
    "    <li>Click on <strong>Show Quota Panel</strong>.</li>\n",
    "    <li>Find the line which shows <strong>TPU v2 cores per project per region</strong> in its limit names and click on <strong>All Quotas</strong>.</li>\n",
    "    <li>You'll arrive on a page with table comprised of multiple locations and limits set to 0. Click on the <strong>Edit Quotas</strong> button which can be found below the search bar. Then click on <strong>europe-west4</strong></li>\n",
    "    <li>Now fill in the form with your information. The form <strong>is a request to google and if accepted, it will grant you access to a tpu. If you are accepted, you can rerun the command 5 and it will create a tpu.</strong></li>\n",
    "    \n",
    "</ul>\n",
    "</details>"
   ]
  },
  {
   "cell_type": "markdown",
   "metadata": {},
   "source": [
    "Command 6: **Confirm command 5 tpu creation**"
   ]
  },
  {
   "cell_type": "code",
   "execution_count": null,
   "metadata": {},
   "outputs": [],
   "source": [
    "y"
   ]
  },
  {
   "cell_type": "code",
   "execution_count": null,
   "metadata": {},
   "outputs": [],
   "source": []
  },
  {
   "cell_type": "markdown",
   "metadata": {},
   "source": [
    "## Writing data to Cloud Storage"
   ]
  },
  {
   "cell_type": "markdown",
   "metadata": {},
   "source": [
    "Command 2: **Create a cloud storage bucket**"
   ]
  },
  {
   "cell_type": "code",
   "execution_count": null,
   "metadata": {},
   "outputs": [],
   "source": [
    "gsutil mb -l europe-west4 gs://$BUCKET_NAME/"
   ]
  },
  {
   "cell_type": "markdown",
   "metadata": {},
   "source": [
    "Please note that the region europe-west4 is compulsory as google does not have TPUs in neither europe1, 2 or 3."
   ]
  },
  {
   "cell_type": "code",
   "execution_count": null,
   "metadata": {},
   "outputs": [],
   "source": []
  }
 ],
 "metadata": {
  "kernelspec": {
   "display_name": "Python 3",
   "language": "python",
   "name": "python3"
  },
  "language_info": {
   "codemirror_mode": {
    "name": "ipython",
    "version": 3
   },
   "file_extension": ".py",
   "mimetype": "text/x-python",
   "name": "python",
   "nbconvert_exporter": "python",
   "pygments_lexer": "ipython3",
   "version": "3.7.7"
  },
  "toc": {
   "base_numbering": 1,
   "nav_menu": {},
   "number_sections": true,
   "sideBar": true,
   "skip_h1_title": false,
   "title_cell": "Table of Contents",
   "title_sidebar": "Contents",
   "toc_cell": false,
   "toc_position": {
    "height": "calc(100% - 180px)",
    "left": "10px",
    "top": "150px",
    "width": "217.778px"
   },
   "toc_section_display": true,
   "toc_window_display": true
  },
  "varInspector": {
   "cols": {
    "lenName": 16,
    "lenType": 16,
    "lenVar": 40
   },
   "kernels_config": {
    "python": {
     "delete_cmd_postfix": "",
     "delete_cmd_prefix": "del ",
     "library": "var_list.py",
     "varRefreshCmd": "print(var_dic_list())"
    },
    "r": {
     "delete_cmd_postfix": ") ",
     "delete_cmd_prefix": "rm(",
     "library": "var_list.r",
     "varRefreshCmd": "cat(var_dic_list()) "
    }
   },
   "types_to_exclude": [
    "module",
    "function",
    "builtin_function_or_method",
    "instance",
    "_Feature"
   ],
   "window_display": false
  }
 },
 "nbformat": 4,
 "nbformat_minor": 4
}
