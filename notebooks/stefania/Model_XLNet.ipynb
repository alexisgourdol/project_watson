{
 "cells": [
  {
   "cell_type": "markdown",
   "metadata": {
    "papermill": {
     "duration": 0.008868,
     "end_time": "2020-09-07T15:31:44.305532",
     "exception": false,
     "start_time": "2020-09-07T15:31:44.296664",
     "status": "completed"
    },
    "tags": []
   },
   "source": [
    "# Loading Data"
   ]
  },
  {
   "cell_type": "code",
   "execution_count": 1,
   "metadata": {
    "ExecuteTime": {
     "end_time": "2020-09-08T13:47:44.589909Z",
     "start_time": "2020-09-08T13:47:43.562490Z"
    },
    "_cell_guid": "b1076dfc-b9ad-4769-8c92-a6c4dae69d19",
    "_uuid": "8f2839f25d086af736a60e9eeb907d3b93b6e0e5",
    "execution": {
     "iopub.execute_input": "2020-09-07T15:31:44.328080Z",
     "iopub.status.busy": "2020-09-07T15:31:44.327136Z",
     "iopub.status.idle": "2020-09-07T15:31:44.333709Z",
     "shell.execute_reply": "2020-09-07T15:31:44.333026Z"
    },
    "papermill": {
     "duration": 0.020934,
     "end_time": "2020-09-07T15:31:44.333858",
     "exception": false,
     "start_time": "2020-09-07T15:31:44.312924",
     "status": "completed"
    },
    "tags": []
   },
   "outputs": [],
   "source": [
    "# This Python 3 environment comes with many helpful analytics libraries installed\n",
    "# It is defined by the kaggle/python Docker image: https://github.com/kaggle/docker-python\n",
    "# For example, here's several helpful packages to load\n",
    "\n",
    "import numpy as np # linear algebra\n",
    "import pandas as pd # data processing, CSV file I/O (e.g. pd.read_csv)\n",
    "\n",
    "# Input data files are available in the read-only \"../input/\" directory\n",
    "# For example, running this (by clicking run or pressing Shift+Enter) will list all files under the input directory\n",
    "\n",
    "import os\n",
    "for dirname, _, filenames in os.walk('/kaggle/input'):\n",
    "    for filename in filenames:\n",
    "        print(os.path.join(dirname, filename))\n",
    "\n",
    "# You can write up to 5GB to the current directory (/kaggle/working/) that gets preserved as output when you create a version using \"Save & Run All\" \n",
    "# You can also write temporary files to /kaggle/temp/, but they won't be saved outside of the current session"
   ]
  },
  {
   "cell_type": "code",
   "execution_count": 2,
   "metadata": {
    "ExecuteTime": {
     "end_time": "2020-09-08T13:47:56.398615Z",
     "start_time": "2020-09-08T13:47:44.594069Z"
    },
    "_cell_guid": "79c7e3d0-c299-4dcb-8224-4455121ee9b0",
    "_uuid": "d629ff2d2480ee46fbb7e2d37f6b5fab8052498a",
    "execution": {
     "iopub.execute_input": "2020-09-07T15:31:44.357239Z",
     "iopub.status.busy": "2020-09-07T15:31:44.356436Z",
     "iopub.status.idle": "2020-09-07T15:31:54.286808Z",
     "shell.execute_reply": "2020-09-07T15:31:54.286135Z"
    },
    "papermill": {
     "duration": 9.944875,
     "end_time": "2020-09-07T15:31:54.286950",
     "exception": false,
     "start_time": "2020-09-07T15:31:44.342075",
     "status": "completed"
    },
    "tags": []
   },
   "outputs": [],
   "source": [
    "import matplotlib.pyplot as plt\n",
    "import tensorflow as tf\n",
    "from transformers import TFAutoModel, AutoTokenizer"
   ]
  },
  {
   "cell_type": "code",
   "execution_count": 3,
   "metadata": {
    "ExecuteTime": {
     "end_time": "2020-09-08T13:47:56.438897Z",
     "start_time": "2020-09-08T13:47:56.405609Z"
    },
    "execution": {
     "iopub.execute_input": "2020-09-07T15:31:54.439276Z",
     "iopub.status.busy": "2020-09-07T15:31:54.438153Z",
     "iopub.status.idle": "2020-09-07T15:31:58.941011Z",
     "shell.execute_reply": "2020-09-07T15:31:58.940217Z"
    },
    "papermill": {
     "duration": 4.620889,
     "end_time": "2020-09-07T15:31:58.941152",
     "exception": false,
     "start_time": "2020-09-07T15:31:54.320263",
     "status": "completed"
    },
    "tags": []
   },
   "outputs": [
    {
     "name": "stdout",
     "output_type": "stream",
     "text": [
      "Number of replicas: 1\n"
     ]
    }
   ],
   "source": [
    "try:\n",
    "    tpu = tf.distribute.cluster_resolver.TPUClusterResolver()\n",
    "    tf.config.experimental_connect_to_cluster(tpu)\n",
    "    tf.tpu.experimental.initialize_tpu_system(tpu)\n",
    "    strategy = tf.distribute.experimental.TPUStrategy(tpu)\n",
    "except ValueError:\n",
    "    strategy = tf.distribute.get_strategy() # for CPU and single GPU\n",
    "    print('Number of replicas:', strategy.num_replicas_in_sync)"
   ]
  },
  {
   "cell_type": "code",
   "execution_count": 4,
   "metadata": {
    "ExecuteTime": {
     "end_time": "2020-09-08T13:47:56.580304Z",
     "start_time": "2020-09-08T13:47:56.448022Z"
    },
    "execution": {
     "iopub.execute_input": "2020-09-07T15:31:58.963427Z",
     "iopub.status.busy": "2020-09-07T15:31:58.962684Z",
     "iopub.status.idle": "2020-09-07T15:31:59.048115Z",
     "shell.execute_reply": "2020-09-07T15:31:59.047081Z"
    },
    "papermill": {
     "duration": 0.09967,
     "end_time": "2020-09-07T15:31:59.048322",
     "exception": false,
     "start_time": "2020-09-07T15:31:58.948652",
     "status": "completed"
    },
    "tags": []
   },
   "outputs": [],
   "source": [
    "# train = pd.read_csv(\"/kaggle/input/contradictory-my-dear-watson/train.csv\")\n",
    "train = pd.read_csv(\"../../project_watson/data/train.csv\")"
   ]
  },
  {
   "cell_type": "code",
   "execution_count": 5,
   "metadata": {
    "ExecuteTime": {
     "end_time": "2020-09-08T13:47:56.770002Z",
     "start_time": "2020-09-08T13:47:56.586125Z"
    },
    "execution": {
     "iopub.execute_input": "2020-09-07T15:31:59.087400Z",
     "iopub.status.busy": "2020-09-07T15:31:59.086272Z",
     "iopub.status.idle": "2020-09-07T15:31:59.090028Z",
     "shell.execute_reply": "2020-09-07T15:31:59.089342Z"
    },
    "papermill": {
     "duration": 0.033837,
     "end_time": "2020-09-07T15:31:59.090171",
     "exception": false,
     "start_time": "2020-09-07T15:31:59.056334",
     "status": "completed"
    },
    "tags": []
   },
   "outputs": [],
   "source": [
    "labels, frequencies = np.unique(train.language.values, return_counts = True)"
   ]
  },
  {
   "cell_type": "code",
   "execution_count": 6,
   "metadata": {
    "ExecuteTime": {
     "end_time": "2020-09-08T13:47:56.802638Z",
     "start_time": "2020-09-08T13:47:56.782121Z"
    },
    "execution": {
     "iopub.execute_input": "2020-09-07T15:31:59.113904Z",
     "iopub.status.busy": "2020-09-07T15:31:59.113058Z",
     "iopub.status.idle": "2020-09-07T15:31:59.117123Z",
     "shell.execute_reply": "2020-09-07T15:31:59.116478Z"
    },
    "papermill": {
     "duration": 0.019033,
     "end_time": "2020-09-07T15:31:59.117245",
     "exception": false,
     "start_time": "2020-09-07T15:31:59.098212",
     "status": "completed"
    },
    "tags": []
   },
   "outputs": [],
   "source": [
    "explode = []\n",
    "for i in range(len(labels)):\n",
    "    if labels[i] == 'English':\n",
    "        explode.append(0.1)\n",
    "    else:\n",
    "        explode.append(0.2)\n",
    "explode = tuple(explode)"
   ]
  },
  {
   "cell_type": "code",
   "execution_count": 7,
   "metadata": {
    "ExecuteTime": {
     "end_time": "2020-09-08T13:47:57.769756Z",
     "start_time": "2020-09-08T13:47:56.810638Z"
    },
    "execution": {
     "iopub.execute_input": "2020-09-07T15:31:59.140277Z",
     "iopub.status.busy": "2020-09-07T15:31:59.139518Z",
     "iopub.status.idle": "2020-09-07T15:31:59.389074Z",
     "shell.execute_reply": "2020-09-07T15:31:59.389771Z"
    },
    "papermill": {
     "duration": 0.264988,
     "end_time": "2020-09-07T15:31:59.389948",
     "exception": false,
     "start_time": "2020-09-07T15:31:59.124960",
     "status": "completed"
    },
    "tags": []
   },
   "outputs": [
    {
     "data": {
      "image/png": "[encoded data removed]",
      "text/plain": [
       "<Figure size 720x720 with 1 Axes>"
      ]
     },
     "metadata": {},
     "output_type": "display_data"
    }
   ],
   "source": [
    "plt.figure(figsize = (10,10))\n",
    "plt.pie(frequencies,labels = labels, autopct = '%1.1f%%', shadow=True, startangle=90, explode = explode)\n",
    "plt.show()"
   ]
  },
  {
   "cell_type": "markdown",
   "metadata": {
    "papermill": {
     "duration": 0.009083,
     "end_time": "2020-09-07T15:31:59.414794",
     "exception": false,
     "start_time": "2020-09-07T15:31:59.405711",
     "status": "completed"
    },
    "tags": []
   },
   "source": [
    "# Starting exo"
   ]
  },
  {
   "cell_type": "code",
   "execution_count": 17,
   "metadata": {
    "ExecuteTime": {
     "end_time": "2020-09-08T14:12:54.415012Z",
     "start_time": "2020-09-08T14:12:53.061902Z"
    }
   },
   "outputs": [],
   "source": [
    "# NLNet MODEL\n",
    "model_name = 'xlnet-base-cased'\n",
    "tokenizer = AutoTokenizer.from_pretrained(model_name)\n",
    "\n",
    "def encode_sentence(s):\n",
    "    tokens = list(tokenizer.tokenize(s))\n",
    "    tokens.append('[SEP]')\n",
    "    return tokenizer.convert_tokens_to_ids(tokens)"
   ]
  },
  {
   "cell_type": "code",
   "execution_count": 18,
   "metadata": {
    "ExecuteTime": {
     "end_time": "2020-09-08T14:13:38.817385Z",
     "start_time": "2020-09-08T14:13:38.774112Z"
    },
    "execution": {
     "iopub.execute_input": "2020-09-07T15:32:01.249447Z",
     "iopub.status.busy": "2020-09-07T15:32:01.248338Z",
     "iopub.status.idle": "2020-09-07T15:32:01.251981Z",
     "shell.execute_reply": "2020-09-07T15:32:01.251212Z"
    },
    "papermill": {
     "duration": 0.028572,
     "end_time": "2020-09-07T15:32:01.252111",
     "exception": false,
     "start_time": "2020-09-07T15:32:01.223539",
     "status": "completed"
    },
    "tags": []
   },
   "outputs": [],
   "source": [
    "def model_encode(hypotheses, premises, tokenizer):\n",
    "\n",
    "    num_examples = len(hypotheses)\n",
    "\n",
    "    sentence1 = tf.ragged.constant([\n",
    "      encode_sentence(s)\n",
    "      for s in np.array(hypotheses)])\n",
    "    sentence2 = tf.ragged.constant([\n",
    "      encode_sentence(s)\n",
    "       for s in np.array(premises)])\n",
    "\n",
    "    cls = [tokenizer.convert_tokens_to_ids(['[CLS]'])]*sentence1.shape[0]\n",
    "    input_word_ids = tf.concat([cls, sentence1, sentence2], axis=-1)\n",
    "\n",
    "    input_mask = tf.ones_like(input_word_ids).to_tensor()\n",
    "\n",
    "    type_cls = tf.zeros_like(cls)\n",
    "    type_s1 = tf.zeros_like(sentence1)\n",
    "    type_s2 = tf.ones_like(sentence2)\n",
    "    input_type_ids = tf.concat(\n",
    "      [type_cls, type_s1, type_s2], axis=-1).to_tensor()\n",
    "\n",
    "    inputs = {\n",
    "      'input_word_ids': input_word_ids.to_tensor(),\n",
    "      'input_mask': input_mask,\n",
    "      'input_type_ids': input_type_ids}\n",
    "\n",
    "    return inputs"
   ]
  },
  {
   "cell_type": "code",
   "execution_count": 19,
   "metadata": {
    "ExecuteTime": {
     "end_time": "2020-09-08T14:13:48.796936Z",
     "start_time": "2020-09-08T14:13:39.200157Z"
    },
    "execution": {
     "iopub.execute_input": "2020-09-07T15:32:01.292329Z",
     "iopub.status.busy": "2020-09-07T15:32:01.287308Z",
     "iopub.status.idle": "2020-09-07T15:32:19.825070Z",
     "shell.execute_reply": "2020-09-07T15:32:19.824234Z"
    },
    "papermill": {
     "duration": 18.563441,
     "end_time": "2020-09-07T15:32:19.825200",
     "exception": false,
     "start_time": "2020-09-07T15:32:01.261759",
     "status": "completed"
    },
    "tags": []
   },
   "outputs": [],
   "source": [
    "train_input = model_encode(train.premise.values, train.hypothesis.values, tokenizer)"
   ]
  },
  {
   "cell_type": "code",
   "execution_count": 20,
   "metadata": {
    "ExecuteTime": {
     "end_time": "2020-09-08T14:13:48.855803Z",
     "start_time": "2020-09-08T14:13:48.810023Z"
    },
    "execution": {
     "iopub.execute_input": "2020-09-07T15:32:19.857999Z",
     "iopub.status.busy": "2020-09-07T15:32:19.856910Z",
     "iopub.status.idle": "2020-09-07T15:32:19.860299Z",
     "shell.execute_reply": "2020-09-07T15:32:19.859584Z"
    },
    "papermill": {
     "duration": 0.025232,
     "end_time": "2020-09-07T15:32:19.860419",
     "exception": false,
     "start_time": "2020-09-07T15:32:19.835187",
     "status": "completed"
    },
    "tags": []
   },
   "outputs": [],
   "source": [
    "max_len = 50\n",
    "\n",
    "def build_model():\n",
    "    model_encoder = TFAutoModel.from_pretrained(model_name)\n",
    "    input_word_ids = tf.keras.Input(shape=(max_len,), dtype=tf.int32, name=\"input_word_ids\")\n",
    "    input_mask = tf.keras.Input(shape=(max_len,), dtype=tf.int32, name=\"input_mask\")\n",
    "    input_type_ids = tf.keras.Input(shape=(max_len,), dtype=tf.int32, name=\"input_type_ids\")\n",
    "    \n",
    "    embedding = model_encoder([input_word_ids, input_mask, input_type_ids])#[0]\n",
    "    output = tf.keras.layers.Dense(3, activation='softmax')(embedding[:,0,:])\n",
    "\n",
    "    model = tf.keras.Model(inputs=[input_word_ids, input_mask, input_type_ids], outputs=output)\n",
    "    model.compile(tf.keras.optimizers.Adam(lr=1e-5), loss='sparse_categorical_crossentropy', metrics=['accuracy'])\n",
    "\n",
    "    return model"
   ]
  },
  {
   "cell_type": "code",
   "execution_count": 21,
   "metadata": {
    "ExecuteTime": {
     "end_time": "2020-09-08T14:14:00.123925Z",
     "start_time": "2020-09-08T14:13:51.777809Z"
    },
    "execution": {
     "iopub.execute_input": "2020-09-07T15:32:19.887891Z",
     "iopub.status.busy": "2020-09-07T15:32:19.887061Z",
     "iopub.status.idle": "2020-09-07T15:33:19.733439Z",
     "shell.execute_reply": "2020-09-07T15:33:19.734438Z"
    },
    "papermill": {
     "duration": 59.864511,
     "end_time": "2020-09-07T15:33:19.734711",
     "exception": false,
     "start_time": "2020-09-07T15:32:19.870200",
     "status": "completed"
    },
    "tags": []
   },
   "outputs": [
    {
     "name": "stderr",
     "output_type": "stream",
     "text": [
      "Some weights of the model checkpoint at xlnet-base-cased were not used when initializing TFXLNetModel: ['lm_loss']\n",
      "- This IS expected if you are initializing TFXLNetModel from the checkpoint of a model trained on another task or with another architecture (e.g. initializing a BertForSequenceClassification model from a BertForPretraining model).\n",
      "- This IS NOT expected if you are initializing TFXLNetModel from the checkpoint of a model that you expect to be exactly identical (initializing a BertForSequenceClassification model from a BertForSequenceClassification model).\n",
      "All the weights of TFXLNetModel were initialized from the model checkpoint at xlnet-base-cased.\n",
      "If your task is similar to the task the model of the checkpoint was trained on, you can already use TFXLNetModel for predictions without further training.\n"
     ]
    },
    {
     "ename": "ValueError",
     "evalue": "in user code:\n\n    /Users/Stefapuzzo/.pyenv/versions/3.7.7/envs/lewagon/lib/python3.7/site-packages/transformers/modeling_tf_xlnet.py:1137 call  *\n        outputs = self.transformer(inputs, **kwargs)\n    /Users/Stefapuzzo/.pyenv/versions/3.7.7/envs/lewagon/lib/python3.7/site-packages/transformers/modeling_tf_xlnet.py:765 call  *\n        outputs = layer_module(\n    /Users/Stefapuzzo/.pyenv/versions/3.7.7/envs/lewagon/lib/python3.7/site-packages/transformers/modeling_tf_xlnet.py:395 call  *\n        outputs = self.rel_attn(\n    /Users/Stefapuzzo/.pyenv/versions/3.7.7/envs/lewagon/lib/python3.7/site-packages/transformers/modeling_tf_xlnet.py:322 call  *\n        attn_vec = self.rel_attn_core(\n    /Users/Stefapuzzo/.pyenv/versions/3.7.7/envs/lewagon/lib/python3.7/site-packages/transformers/modeling_tf_xlnet.py:175 rel_attn_core  *\n        attn_score = attn_score - 1e30 * attn_mask\n    /Users/Stefapuzzo/.pyenv/versions/3.7.7/envs/lewagon/lib/python3.7/site-packages/tensorflow/python/ops/math_ops.py:1141 binary_op_wrapper\n        raise e\n    /Users/Stefapuzzo/.pyenv/versions/3.7.7/envs/lewagon/lib/python3.7/site-packages/tensorflow/python/ops/math_ops.py:1125 binary_op_wrapper\n        return func(x, y, name=name)\n    /Users/Stefapuzzo/.pyenv/versions/3.7.7/envs/lewagon/lib/python3.7/site-packages/tensorflow/python/util/dispatch.py:201 wrapper\n        return target(*args, **kwargs)\n    /Users/Stefapuzzo/.pyenv/versions/3.7.7/envs/lewagon/lib/python3.7/site-packages/tensorflow/python/ops/math_ops.py:527 subtract\n        return gen_math_ops.sub(x, y, name)\n    /Users/Stefapuzzo/.pyenv/versions/3.7.7/envs/lewagon/lib/python3.7/site-packages/tensorflow/python/ops/gen_math_ops.py:10466 sub\n        \"Sub\", x=x, y=y, name=name)\n    /Users/Stefapuzzo/.pyenv/versions/3.7.7/envs/lewagon/lib/python3.7/site-packages/tensorflow/python/framework/op_def_library.py:744 _apply_op_helper\n        attrs=attr_protos, op_def=op_def)\n    /Users/Stefapuzzo/.pyenv/versions/3.7.7/envs/lewagon/lib/python3.7/site-packages/tensorflow/python/framework/func_graph.py:593 _create_op_internal\n        compute_device)\n    /Users/Stefapuzzo/.pyenv/versions/3.7.7/envs/lewagon/lib/python3.7/site-packages/tensorflow/python/framework/ops.py:3485 _create_op_internal\n        op_def=op_def)\n    /Users/Stefapuzzo/.pyenv/versions/3.7.7/envs/lewagon/lib/python3.7/site-packages/tensorflow/python/framework/ops.py:1975 __init__\n        control_input_ops, op_def)\n    /Users/Stefapuzzo/.pyenv/versions/3.7.7/envs/lewagon/lib/python3.7/site-packages/tensorflow/python/framework/ops.py:1815 _create_c_op\n        raise ValueError(str(e))\n\n    ValueError: Dimensions must be equal, but are 50 and 100 for '{{node tfxl_net_model_3/transformer/layer_._0/rel_attn/sub}} = Sub[T=DT_FLOAT](tfxl_net_model_3/transformer/layer_._0/rel_attn/mul, tfxl_net_model_3/transformer/layer_._0/rel_attn/mul_1)' with input shapes: [50,50,?,12], [50,100,?,1].\n",
     "output_type": "error",
     "traceback": [
      "\u001b[0;31m---------------------------------------------------------------------------\u001b[0m",
      "\u001b[0;31mValueError\u001b[0m                                Traceback (most recent call last)",
      "\u001b[0;32m<ipython-input-21-696a5485cfac>\u001b[0m in \u001b[0;36m<module>\u001b[0;34m\u001b[0m\n\u001b[1;32m      1\u001b[0m \u001b[0;32mwith\u001b[0m \u001b[0mstrategy\u001b[0m\u001b[0;34m.\u001b[0m\u001b[0mscope\u001b[0m\u001b[0;34m(\u001b[0m\u001b[0;34m)\u001b[0m\u001b[0;34m:\u001b[0m\u001b[0;34m\u001b[0m\u001b[0;34m\u001b[0m\u001b[0m\n\u001b[0;32m----> 2\u001b[0;31m     \u001b[0mmodel\u001b[0m \u001b[0;34m=\u001b[0m \u001b[0mbuild_model\u001b[0m\u001b[0;34m(\u001b[0m\u001b[0;34m)\u001b[0m\u001b[0;34m\u001b[0m\u001b[0;34m\u001b[0m\u001b[0m\n\u001b[0m\u001b[1;32m      3\u001b[0m     \u001b[0mmodel\u001b[0m\u001b[0;34m.\u001b[0m\u001b[0msummary\u001b[0m\u001b[0;34m(\u001b[0m\u001b[0;34m)\u001b[0m\u001b[0;34m\u001b[0m\u001b[0;34m\u001b[0m\u001b[0m\n",
      "\u001b[0;32m<ipython-input-20-e170dee024f5>\u001b[0m in \u001b[0;36mbuild_model\u001b[0;34m()\u001b[0m\n\u001b[1;32m      7\u001b[0m     \u001b[0minput_type_ids\u001b[0m \u001b[0;34m=\u001b[0m \u001b[0mtf\u001b[0m\u001b[0;34m.\u001b[0m\u001b[0mkeras\u001b[0m\u001b[0;34m.\u001b[0m\u001b[0mInput\u001b[0m\u001b[0;34m(\u001b[0m\u001b[0mshape\u001b[0m\u001b[0;34m=\u001b[0m\u001b[0;34m(\u001b[0m\u001b[0mmax_len\u001b[0m\u001b[0;34m,\u001b[0m\u001b[0;34m)\u001b[0m\u001b[0;34m,\u001b[0m \u001b[0mdtype\u001b[0m\u001b[0;34m=\u001b[0m\u001b[0mtf\u001b[0m\u001b[0;34m.\u001b[0m\u001b[0mint32\u001b[0m\u001b[0;34m,\u001b[0m \u001b[0mname\u001b[0m\u001b[0;34m=\u001b[0m\u001b[0;34m\"input_type_ids\"\u001b[0m\u001b[0;34m)\u001b[0m\u001b[0;34m\u001b[0m\u001b[0;34m\u001b[0m\u001b[0m\n\u001b[1;32m      8\u001b[0m \u001b[0;34m\u001b[0m\u001b[0m\n\u001b[0;32m----> 9\u001b[0;31m     \u001b[0membedding\u001b[0m \u001b[0;34m=\u001b[0m \u001b[0mmodel_encoder\u001b[0m\u001b[0;34m(\u001b[0m\u001b[0;34m[\u001b[0m\u001b[0minput_word_ids\u001b[0m\u001b[0;34m,\u001b[0m \u001b[0minput_mask\u001b[0m\u001b[0;34m,\u001b[0m \u001b[0minput_type_ids\u001b[0m\u001b[0;34m]\u001b[0m\u001b[0;34m)\u001b[0m\u001b[0;31m#[0]\u001b[0m\u001b[0;34m\u001b[0m\u001b[0;34m\u001b[0m\u001b[0m\n\u001b[0m\u001b[1;32m     10\u001b[0m     \u001b[0moutput\u001b[0m \u001b[0;34m=\u001b[0m \u001b[0mtf\u001b[0m\u001b[0;34m.\u001b[0m\u001b[0mkeras\u001b[0m\u001b[0;34m.\u001b[0m\u001b[0mlayers\u001b[0m\u001b[0;34m.\u001b[0m\u001b[0mDense\u001b[0m\u001b[0;34m(\u001b[0m\u001b[0;36m3\u001b[0m\u001b[0;34m,\u001b[0m \u001b[0mactivation\u001b[0m\u001b[0;34m=\u001b[0m\u001b[0;34m'softmax'\u001b[0m\u001b[0;34m)\u001b[0m\u001b[0;34m(\u001b[0m\u001b[0membedding\u001b[0m\u001b[0;34m[\u001b[0m\u001b[0;34m:\u001b[0m\u001b[0;34m,\u001b[0m\u001b[0;36m0\u001b[0m\u001b[0;34m,\u001b[0m\u001b[0;34m:\u001b[0m\u001b[0;34m]\u001b[0m\u001b[0;34m)\u001b[0m\u001b[0;34m\u001b[0m\u001b[0;34m\u001b[0m\u001b[0m\n\u001b[1;32m     11\u001b[0m \u001b[0;34m\u001b[0m\u001b[0m\n",
      "\u001b[0;32m~/.pyenv/versions/3.7.7/envs/lewagon/lib/python3.7/site-packages/tensorflow/python/keras/engine/base_layer.py\u001b[0m in \u001b[0;36m__call__\u001b[0;34m(self, *args, **kwargs)\u001b[0m\n\u001b[1;32m    924\u001b[0m     \u001b[0;32mif\u001b[0m \u001b[0m_in_functional_construction_mode\u001b[0m\u001b[0;34m(\u001b[0m\u001b[0mself\u001b[0m\u001b[0;34m,\u001b[0m \u001b[0minputs\u001b[0m\u001b[0;34m,\u001b[0m \u001b[0margs\u001b[0m\u001b[0;34m,\u001b[0m \u001b[0mkwargs\u001b[0m\u001b[0;34m,\u001b[0m \u001b[0minput_list\u001b[0m\u001b[0;34m)\u001b[0m\u001b[0;34m:\u001b[0m\u001b[0;34m\u001b[0m\u001b[0;34m\u001b[0m\u001b[0m\n\u001b[1;32m    925\u001b[0m       return self._functional_construction_call(inputs, args, kwargs,\n\u001b[0;32m--> 926\u001b[0;31m                                                 input_list)\n\u001b[0m\u001b[1;32m    927\u001b[0m \u001b[0;34m\u001b[0m\u001b[0m\n\u001b[1;32m    928\u001b[0m     \u001b[0;31m# Maintains info about the `Layer.call` stack.\u001b[0m\u001b[0;34m\u001b[0m\u001b[0;34m\u001b[0m\u001b[0;34m\u001b[0m\u001b[0m\n",
      "\u001b[0;32m~/.pyenv/versions/3.7.7/envs/lewagon/lib/python3.7/site-packages/tensorflow/python/keras/engine/base_layer.py\u001b[0m in \u001b[0;36m_functional_construction_call\u001b[0;34m(self, inputs, args, kwargs, input_list)\u001b[0m\n\u001b[1;32m   1115\u001b[0m           \u001b[0;32mtry\u001b[0m\u001b[0;34m:\u001b[0m\u001b[0;34m\u001b[0m\u001b[0;34m\u001b[0m\u001b[0m\n\u001b[1;32m   1116\u001b[0m             \u001b[0;32mwith\u001b[0m \u001b[0mops\u001b[0m\u001b[0;34m.\u001b[0m\u001b[0menable_auto_cast_variables\u001b[0m\u001b[0;34m(\u001b[0m\u001b[0mself\u001b[0m\u001b[0;34m.\u001b[0m\u001b[0m_compute_dtype_object\u001b[0m\u001b[0;34m)\u001b[0m\u001b[0;34m:\u001b[0m\u001b[0;34m\u001b[0m\u001b[0;34m\u001b[0m\u001b[0m\n\u001b[0;32m-> 1117\u001b[0;31m               \u001b[0moutputs\u001b[0m \u001b[0;34m=\u001b[0m \u001b[0mcall_fn\u001b[0m\u001b[0;34m(\u001b[0m\u001b[0mcast_inputs\u001b[0m\u001b[0;34m,\u001b[0m \u001b[0;34m*\u001b[0m\u001b[0margs\u001b[0m\u001b[0;34m,\u001b[0m \u001b[0;34m**\u001b[0m\u001b[0mkwargs\u001b[0m\u001b[0;34m)\u001b[0m\u001b[0;34m\u001b[0m\u001b[0;34m\u001b[0m\u001b[0m\n\u001b[0m\u001b[1;32m   1118\u001b[0m \u001b[0;34m\u001b[0m\u001b[0m\n\u001b[1;32m   1119\u001b[0m           \u001b[0;32mexcept\u001b[0m \u001b[0merrors\u001b[0m\u001b[0;34m.\u001b[0m\u001b[0mOperatorNotAllowedInGraphError\u001b[0m \u001b[0;32mas\u001b[0m \u001b[0me\u001b[0m\u001b[0;34m:\u001b[0m\u001b[0;34m\u001b[0m\u001b[0;34m\u001b[0m\u001b[0m\n",
      "\u001b[0;32m~/.pyenv/versions/3.7.7/envs/lewagon/lib/python3.7/site-packages/tensorflow/python/autograph/impl/api.py\u001b[0m in \u001b[0;36mwrapper\u001b[0;34m(*args, **kwargs)\u001b[0m\n\u001b[1;32m    256\u001b[0m       \u001b[0;32mexcept\u001b[0m \u001b[0mException\u001b[0m \u001b[0;32mas\u001b[0m \u001b[0me\u001b[0m\u001b[0;34m:\u001b[0m  \u001b[0;31m# pylint:disable=broad-except\u001b[0m\u001b[0;34m\u001b[0m\u001b[0;34m\u001b[0m\u001b[0m\n\u001b[1;32m    257\u001b[0m         \u001b[0;32mif\u001b[0m \u001b[0mhasattr\u001b[0m\u001b[0;34m(\u001b[0m\u001b[0me\u001b[0m\u001b[0;34m,\u001b[0m \u001b[0;34m'ag_error_metadata'\u001b[0m\u001b[0;34m)\u001b[0m\u001b[0;34m:\u001b[0m\u001b[0;34m\u001b[0m\u001b[0;34m\u001b[0m\u001b[0m\n\u001b[0;32m--> 258\u001b[0;31m           \u001b[0;32mraise\u001b[0m \u001b[0me\u001b[0m\u001b[0;34m.\u001b[0m\u001b[0mag_error_metadata\u001b[0m\u001b[0;34m.\u001b[0m\u001b[0mto_exception\u001b[0m\u001b[0;34m(\u001b[0m\u001b[0me\u001b[0m\u001b[0;34m)\u001b[0m\u001b[0;34m\u001b[0m\u001b[0;34m\u001b[0m\u001b[0m\n\u001b[0m\u001b[1;32m    259\u001b[0m         \u001b[0;32melse\u001b[0m\u001b[0;34m:\u001b[0m\u001b[0;34m\u001b[0m\u001b[0;34m\u001b[0m\u001b[0m\n\u001b[1;32m    260\u001b[0m           \u001b[0;32mraise\u001b[0m\u001b[0;34m\u001b[0m\u001b[0;34m\u001b[0m\u001b[0m\n",
      "\u001b[0;31mValueError\u001b[0m: in user code:\n\n    /Users/Stefapuzzo/.pyenv/versions/3.7.7/envs/lewagon/lib/python3.7/site-packages/transformers/modeling_tf_xlnet.py:1137 call  *\n        outputs = self.transformer(inputs, **kwargs)\n    /Users/Stefapuzzo/.pyenv/versions/3.7.7/envs/lewagon/lib/python3.7/site-packages/transformers/modeling_tf_xlnet.py:765 call  *\n        outputs = layer_module(\n    /Users/Stefapuzzo/.pyenv/versions/3.7.7/envs/lewagon/lib/python3.7/site-packages/transformers/modeling_tf_xlnet.py:395 call  *\n        outputs = self.rel_attn(\n    /Users/Stefapuzzo/.pyenv/versions/3.7.7/envs/lewagon/lib/python3.7/site-packages/transformers/modeling_tf_xlnet.py:322 call  *\n        attn_vec = self.rel_attn_core(\n    /Users/Stefapuzzo/.pyenv/versions/3.7.7/envs/lewagon/lib/python3.7/site-packages/transformers/modeling_tf_xlnet.py:175 rel_attn_core  *\n        attn_score = attn_score - 1e30 * attn_mask\n    /Users/Stefapuzzo/.pyenv/versions/3.7.7/envs/lewagon/lib/python3.7/site-packages/tensorflow/python/ops/math_ops.py:1141 binary_op_wrapper\n        raise e\n    /Users/Stefapuzzo/.pyenv/versions/3.7.7/envs/lewagon/lib/python3.7/site-packages/tensorflow/python/ops/math_ops.py:1125 binary_op_wrapper\n        return func(x, y, name=name)\n    /Users/Stefapuzzo/.pyenv/versions/3.7.7/envs/lewagon/lib/python3.7/site-packages/tensorflow/python/util/dispatch.py:201 wrapper\n        return target(*args, **kwargs)\n    /Users/Stefapuzzo/.pyenv/versions/3.7.7/envs/lewagon/lib/python3.7/site-packages/tensorflow/python/ops/math_ops.py:527 subtract\n        return gen_math_ops.sub(x, y, name)\n    /Users/Stefapuzzo/.pyenv/versions/3.7.7/envs/lewagon/lib/python3.7/site-packages/tensorflow/python/ops/gen_math_ops.py:10466 sub\n        \"Sub\", x=x, y=y, name=name)\n    /Users/Stefapuzzo/.pyenv/versions/3.7.7/envs/lewagon/lib/python3.7/site-packages/tensorflow/python/framework/op_def_library.py:744 _apply_op_helper\n        attrs=attr_protos, op_def=op_def)\n    /Users/Stefapuzzo/.pyenv/versions/3.7.7/envs/lewagon/lib/python3.7/site-packages/tensorflow/python/framework/func_graph.py:593 _create_op_internal\n        compute_device)\n    /Users/Stefapuzzo/.pyenv/versions/3.7.7/envs/lewagon/lib/python3.7/site-packages/tensorflow/python/framework/ops.py:3485 _create_op_internal\n        op_def=op_def)\n    /Users/Stefapuzzo/.pyenv/versions/3.7.7/envs/lewagon/lib/python3.7/site-packages/tensorflow/python/framework/ops.py:1975 __init__\n        control_input_ops, op_def)\n    /Users/Stefapuzzo/.pyenv/versions/3.7.7/envs/lewagon/lib/python3.7/site-packages/tensorflow/python/framework/ops.py:1815 _create_c_op\n        raise ValueError(str(e))\n\n    ValueError: Dimensions must be equal, but are 50 and 100 for '{{node tfxl_net_model_3/transformer/layer_._0/rel_attn/sub}} = Sub[T=DT_FLOAT](tfxl_net_model_3/transformer/layer_._0/rel_attn/mul, tfxl_net_model_3/transformer/layer_._0/rel_attn/mul_1)' with input shapes: [50,50,?,12], [50,100,?,1].\n"
     ]
    }
   ],
   "source": [
    "with strategy.scope():\n",
    "    model = build_model()\n",
    "    model.summary()"
   ]
  },
  {
   "cell_type": "code",
   "execution_count": null,
   "metadata": {
    "ExecuteTime": {
     "end_time": "2020-09-08T13:48:21.909307Z",
     "start_time": "2020-09-08T13:47:43.632Z"
    },
    "execution": {
     "iopub.execute_input": "2020-09-07T15:33:19.767536Z",
     "iopub.status.busy": "2020-09-07T15:33:19.766578Z",
     "iopub.status.idle": "2020-09-07T15:42:12.007949Z",
     "shell.execute_reply": "2020-09-07T15:42:12.007304Z"
    },
    "papermill": {
     "duration": 532.260907,
     "end_time": "2020-09-07T15:42:12.008072",
     "exception": false,
     "start_time": "2020-09-07T15:33:19.747165",
     "status": "completed"
    },
    "tags": []
   },
   "outputs": [],
   "source": [
    "from keras.callbacks import EarlyStopping\n",
    "es = EarlyStopping(monitor='val_accuracy', patience=2)\n",
    "model.fit(train_input, train.label.values, epochs = 20, verbose = 2, batch_size = 32, validation_split = 0.3, callbacks = [es])"
   ]
  },
  {
   "cell_type": "code",
   "execution_count": null,
   "metadata": {
    "ExecuteTime": {
     "end_time": "2020-09-08T13:48:21.918609Z",
     "start_time": "2020-09-08T13:47:43.638Z"
    },
    "execution": {
     "iopub.execute_input": "2020-09-07T15:42:12.039431Z",
     "iopub.status.busy": "2020-09-07T15:42:12.038723Z",
     "iopub.status.idle": "2020-09-07T15:42:20.203045Z",
     "shell.execute_reply": "2020-09-07T15:42:20.202147Z"
    },
    "papermill": {
     "duration": 8.183367,
     "end_time": "2020-09-07T15:42:20.203207",
     "exception": false,
     "start_time": "2020-09-07T15:42:12.019840",
     "status": "completed"
    },
    "tags": []
   },
   "outputs": [],
   "source": [
    "test = pd.read_csv(\"../../project_watson/data/test.csv\")\n",
    "# test = pd.read_csv(\"/kaggle/input/contradictory-my-dear-watson/test.csv\")\n",
    "test_input = xlnet_encode(test.premise.values, test.hypothesis.values, tokenizer)"
   ]
  },
  {
   "cell_type": "code",
   "execution_count": null,
   "metadata": {
    "ExecuteTime": {
     "end_time": "2020-09-08T13:48:21.923671Z",
     "start_time": "2020-09-08T13:47:43.643Z"
    },
    "execution": {
     "iopub.execute_input": "2020-09-07T15:42:20.242425Z",
     "iopub.status.busy": "2020-09-07T15:42:20.241625Z",
     "iopub.status.idle": "2020-09-07T15:42:20.254578Z",
     "shell.execute_reply": "2020-09-07T15:42:20.255155Z"
    },
    "papermill": {
     "duration": 0.039015,
     "end_time": "2020-09-07T15:42:20.255332",
     "exception": false,
     "start_time": "2020-09-07T15:42:20.216317",
     "status": "completed"
    },
    "tags": []
   },
   "outputs": [],
   "source": [
    "test.head()"
   ]
  },
  {
   "cell_type": "code",
   "execution_count": null,
   "metadata": {
    "ExecuteTime": {
     "end_time": "2020-09-08T13:48:21.928744Z",
     "start_time": "2020-09-08T13:47:43.649Z"
    },
    "execution": {
     "iopub.execute_input": "2020-09-07T15:42:20.287889Z",
     "iopub.status.busy": "2020-09-07T15:42:20.287107Z",
     "iopub.status.idle": "2020-09-07T15:42:37.557130Z",
     "shell.execute_reply": "2020-09-07T15:42:37.556398Z"
    },
    "papermill": {
     "duration": 17.289106,
     "end_time": "2020-09-07T15:42:37.557258",
     "exception": false,
     "start_time": "2020-09-07T15:42:20.268152",
     "status": "completed"
    },
    "tags": []
   },
   "outputs": [],
   "source": [
    "predictions = [np.argmax(i) for i in model.predict(test_input)]\n",
    "predictions"
   ]
  },
  {
   "cell_type": "code",
   "execution_count": null,
   "metadata": {
    "ExecuteTime": {
     "end_time": "2020-09-08T13:48:21.932999Z",
     "start_time": "2020-09-08T13:47:43.655Z"
    },
    "execution": {
     "iopub.execute_input": "2020-09-07T15:42:37.598247Z",
     "iopub.status.busy": "2020-09-07T15:42:37.597258Z",
     "iopub.status.idle": "2020-09-07T15:42:37.602484Z",
     "shell.execute_reply": "2020-09-07T15:42:37.601776Z"
    },
    "papermill": {
     "duration": 0.031761,
     "end_time": "2020-09-07T15:42:37.602653",
     "exception": false,
     "start_time": "2020-09-07T15:42:37.570892",
     "status": "completed"
    },
    "tags": []
   },
   "outputs": [],
   "source": [
    "submission = test.id.copy().to_frame()\n",
    "submission"
   ]
  },
  {
   "cell_type": "code",
   "execution_count": null,
   "metadata": {
    "ExecuteTime": {
     "end_time": "2020-09-08T13:48:21.937644Z",
     "start_time": "2020-09-08T13:47:43.660Z"
    },
    "execution": {
     "iopub.execute_input": "2020-09-07T15:42:37.639749Z",
     "iopub.status.busy": "2020-09-07T15:42:37.639012Z",
     "iopub.status.idle": "2020-09-07T15:42:37.642522Z",
     "shell.execute_reply": "2020-09-07T15:42:37.641928Z"
    },
    "papermill": {
     "duration": 0.026397,
     "end_time": "2020-09-07T15:42:37.642661",
     "exception": false,
     "start_time": "2020-09-07T15:42:37.616264",
     "status": "completed"
    },
    "tags": []
   },
   "outputs": [],
   "source": [
    "submission['prediction'] = predictions"
   ]
  },
  {
   "cell_type": "code",
   "execution_count": null,
   "metadata": {
    "ExecuteTime": {
     "end_time": "2020-09-08T13:48:21.950004Z",
     "start_time": "2020-09-08T13:47:43.666Z"
    },
    "execution": {
     "iopub.execute_input": "2020-09-07T15:42:37.680896Z",
     "iopub.status.busy": "2020-09-07T15:42:37.679993Z",
     "iopub.status.idle": "2020-09-07T15:42:37.684019Z",
     "shell.execute_reply": "2020-09-07T15:42:37.684583Z"
    },
    "papermill": {
     "duration": 0.028486,
     "end_time": "2020-09-07T15:42:37.684752",
     "exception": false,
     "start_time": "2020-09-07T15:42:37.656266",
     "status": "completed"
    },
    "tags": []
   },
   "outputs": [],
   "source": [
    "submission.head()"
   ]
  },
  {
   "cell_type": "code",
   "execution_count": null,
   "metadata": {
    "ExecuteTime": {
     "end_time": "2020-09-08T13:48:21.957672Z",
     "start_time": "2020-09-08T13:47:43.671Z"
    },
    "execution": {
     "iopub.execute_input": "2020-09-07T15:42:37.719332Z",
     "iopub.status.busy": "2020-09-07T15:42:37.718599Z",
     "iopub.status.idle": "2020-09-07T15:42:37.795192Z",
     "shell.execute_reply": "2020-09-07T15:42:37.794390Z"
    },
    "papermill": {
     "duration": 0.095948,
     "end_time": "2020-09-07T15:42:37.795320",
     "exception": false,
     "start_time": "2020-09-07T15:42:37.699372",
     "status": "completed"
    },
    "tags": []
   },
   "outputs": [],
   "source": [
    "submission.to_csv(\"submission.csv\", index = False)"
   ]
  },
  {
   "cell_type": "code",
   "execution_count": null,
   "metadata": {
    "papermill": {
     "duration": 0.013869,
     "end_time": "2020-09-07T15:42:37.823357",
     "exception": false,
     "start_time": "2020-09-07T15:42:37.809488",
     "status": "completed"
    },
    "tags": []
   },
   "outputs": [],
   "source": []
  }
 ],
 "metadata": {
  "kernelspec": {
   "display_name": "Python 3",
   "language": "python",
   "name": "python3"
  },
  "language_info": {
   "codemirror_mode": {
    "name": "ipython",
    "version": 3
   },
   "file_extension": ".py",
   "mimetype": "text/x-python",
   "name": "python",
   "nbconvert_exporter": "python",
   "pygments_lexer": "ipython3",
   "version": "3.7.7"
  },
  "papermill": {
   "duration": 658.969819,
   "end_time": "2020-09-07T15:42:37.947575",
   "environment_variables": {},
   "exception": null,
   "input_path": "__notebook__.ipynb",
   "output_path": "__notebook__.ipynb",
   "parameters": {},
   "start_time": "2020-09-07T15:31:38.977756",
   "version": "2.1.0"
  },
  "toc": {
   "base_numbering": 1,
   "nav_menu": {},
   "number_sections": true,
   "sideBar": true,
   "skip_h1_title": false,
   "title_cell": "Table of Contents",
   "title_sidebar": "Contents",
   "toc_cell": false,
   "toc_position": {},
   "toc_section_display": true,
   "toc_window_display": false
  },
  "widgets": {
   "application/vnd.jupyter.widget-state+json": {
    "state": {
     "08af6c7f881f4b1a96f90588dc8cb2c2": {
      "model_module": "@jupyter-widgets/base",
      "model_module_version": "1.2.0",
      "model_name": "LayoutModel",
      "state": {
       "_model_module": "@jupyter-widgets/base",
       "_model_module_version": "1.2.0",
       "_model_name": "LayoutModel",
       "_view_count": null,
       "_view_module": "@jupyter-widgets/base",
       "_view_module_version": "1.2.0",
       "_view_name": "LayoutView",
       "align_content": null,
       "align_items": null,
       "align_self": null,
       "border": null,
       "bottom": null,
       "display": null,
       "flex": null,
       "flex_flow": null,
       "grid_area": null,
       "grid_auto_columns": null,
       "grid_auto_flow": null,
       "grid_auto_rows": null,
       "grid_column": null,
       "grid_gap": null,
       "grid_row": null,
       "grid_template_areas": null,
       "grid_template_columns": null,
       "grid_template_rows": null,
       "height": null,
       "justify_content": null,
       "justify_items": null,
       "left": null,
       "margin": null,
       "max_height": null,
       "max_width": null,
       "min_height": null,
       "min_width": null,
       "object_fit": null,
       "object_position": null,
       "order": null,
       "overflow": null,
       "overflow_x": null,
       "overflow_y": null,
       "padding": null,
       "right": null,
       "top": null,
       "visibility": null,
       "width": null
      }
     },
     "1078d882bafd4bd382e75b3fe97c24d6": {
      "model_module": "@jupyter-widgets/controls",
      "model_module_version": "1.5.0",
      "model_name": "HTMLModel",
      "state": {
       "_dom_classes": [],
       "_model_module": "@jupyter-widgets/controls",
       "_model_module_version": "1.5.0",
       "_model_name": "HTMLModel",
       "_view_count": null,
       "_view_module": "@jupyter-widgets/controls",
       "_view_module_version": "1.5.0",
       "_view_name": "HTMLView",
       "description": "",
       "description_tooltip": null,
       "layout": "IPY_MODEL_dd20d9c2cb094cc8adc3274da66a2f73",
       "placeholder": "​",
       "style": "IPY_MODEL_7fb23c1b438b4dbaa07c09d69082380a",
       "value": " 625/625 [00:35&lt;00:00, 17.7B/s]"
      }
     },
     "1715102f4e624236ad4de87d0fc0085d": {
      "model_module": "@jupyter-widgets/base",
      "model_module_version": "1.2.0",
      "model_name": "LayoutModel",
      "state": {
       "_model_module": "@jupyter-widgets/base",
       "_model_module_version": "1.2.0",
       "_model_name": "LayoutModel",
       "_view_count": null,
       "_view_module": "@jupyter-widgets/base",
       "_view_module_version": "1.2.0",
       "_view_name": "LayoutView",
       "align_content": null,
       "align_items": null,
       "align_self": null,
       "border": null,
       "bottom": null,
       "display": null,
       "flex": null,
       "flex_flow": null,
       "grid_area": null,
       "grid_auto_columns": null,
       "grid_auto_flow": null,
       "grid_auto_rows": null,
       "grid_column": null,
       "grid_gap": null,
       "grid_row": null,
       "grid_template_areas": null,
       "grid_template_columns": null,
       "grid_template_rows": null,
       "height": null,
       "justify_content": null,
       "justify_items": null,
       "left": null,
       "margin": null,
       "max_height": null,
       "max_width": null,
       "min_height": null,
       "min_width": null,
       "object_fit": null,
       "object_position": null,
       "order": null,
       "overflow": null,
       "overflow_x": null,
       "overflow_y": null,
       "padding": null,
       "right": null,
       "top": null,
       "visibility": null,
       "width": null
      }
     },
     "1c1cec58f6674343b6c334364d0bbc28": {
      "model_module": "@jupyter-widgets/controls",
      "model_module_version": "1.5.0",
      "model_name": "HTMLModel",
      "state": {
       "_dom_classes": [],
       "_model_module": "@jupyter-widgets/controls",
       "_model_module_version": "1.5.0",
       "_model_name": "HTMLModel",
       "_view_count": null,
       "_view_module": "@jupyter-widgets/controls",
       "_view_module_version": "1.5.0",
       "_view_name": "HTMLView",
       "description": "",
       "description_tooltip": null,
       "layout": "IPY_MODEL_67a67451ddda4b0f9f4a215a5e215759",
       "placeholder": "​",
       "style": "IPY_MODEL_71ae033c35774f6eb8e294b50278667d",
       "value": " 1.08G/1.08G [00:34&lt;00:00, 31.1MB/s]"
      }
     },
     "2484d3510287479d82e12f88c8842109": {
      "model_module": "@jupyter-widgets/controls",
      "model_module_version": "1.5.0",
      "model_name": "HBoxModel",
      "state": {
       "_dom_classes": [],
       "_model_module": "@jupyter-widgets/controls",
       "_model_module_version": "1.5.0",
       "_model_name": "HBoxModel",
       "_view_count": null,
       "_view_module": "@jupyter-widgets/controls",
       "_view_module_version": "1.5.0",
       "_view_name": "HBoxView",
       "box_style": "",
       "children": [
        "IPY_MODEL_b7311255048e42498ff5bc807a72b7a9",
        "IPY_MODEL_1078d882bafd4bd382e75b3fe97c24d6"
       ],
       "layout": "IPY_MODEL_53a9b5806d7149d59e78a3429660fd2d"
      }
     },
     "3a6830a297f94cf78da43095b8d90caf": {
      "model_module": "@jupyter-widgets/controls",
      "model_module_version": "1.5.0",
      "model_name": "DescriptionStyleModel",
      "state": {
       "_model_module": "@jupyter-widgets/controls",
       "_model_module_version": "1.5.0",
       "_model_name": "DescriptionStyleModel",
       "_view_count": null,
       "_view_module": "@jupyter-widgets/base",
       "_view_module_version": "1.2.0",
       "_view_name": "StyleView",
       "description_width": ""
      }
     },
     "53a9b5806d7149d59e78a3429660fd2d": {
      "model_module": "@jupyter-widgets/base",
      "model_module_version": "1.2.0",
      "model_name": "LayoutModel",
      "state": {
       "_model_module": "@jupyter-widgets/base",
       "_model_module_version": "1.2.0",
       "_model_name": "LayoutModel",
       "_view_count": null,
       "_view_module": "@jupyter-widgets/base",
       "_view_module_version": "1.2.0",
       "_view_name": "LayoutView",
       "align_content": null,
       "align_items": null,
       "align_self": null,
       "border": null,
       "bottom": null,
       "display": null,
       "flex": null,
       "flex_flow": null,
       "grid_area": null,
       "grid_auto_columns": null,
       "grid_auto_flow": null,
       "grid_auto_rows": null,
       "grid_column": null,
       "grid_gap": null,
       "grid_row": null,
       "grid_template_areas": null,
       "grid_template_columns": null,
       "grid_template_rows": null,
       "height": null,
       "justify_content": null,
       "justify_items": null,
       "left": null,
       "margin": null,
       "max_height": null,
       "max_width": null,
       "min_height": null,
       "min_width": null,
       "object_fit": null,
       "object_position": null,
       "order": null,
       "overflow": null,
       "overflow_x": null,
       "overflow_y": null,
       "padding": null,
       "right": null,
       "top": null,
       "visibility": null,
       "width": null
      }
     },
     "57b74e89b7ec433aa9ccda02e01b46c9": {
      "model_module": "@jupyter-widgets/controls",
      "model_module_version": "1.5.0",
      "model_name": "ProgressStyleModel",
      "state": {
       "_model_module": "@jupyter-widgets/controls",
       "_model_module_version": "1.5.0",
       "_model_name": "ProgressStyleModel",
       "_view_count": null,
       "_view_module": "@jupyter-widgets/base",
       "_view_module_version": "1.2.0",
       "_view_name": "StyleView",
       "bar_color": null,
       "description_width": "initial"
      }
     },
     "67a67451ddda4b0f9f4a215a5e215759": {
      "model_module": "@jupyter-widgets/base",
      "model_module_version": "1.2.0",
      "model_name": "LayoutModel",
      "state": {
       "_model_module": "@jupyter-widgets/base",
       "_model_module_version": "1.2.0",
       "_model_name": "LayoutModel",
       "_view_count": null,
       "_view_module": "@jupyter-widgets/base",
       "_view_module_version": "1.2.0",
       "_view_name": "LayoutView",
       "align_content": null,
       "align_items": null,
       "align_self": null,
       "border": null,
       "bottom": null,
       "display": null,
       "flex": null,
       "flex_flow": null,
       "grid_area": null,
       "grid_auto_columns": null,
       "grid_auto_flow": null,
       "grid_auto_rows": null,
       "grid_column": null,
       "grid_gap": null,
       "grid_row": null,
       "grid_template_areas": null,
       "grid_template_columns": null,
       "grid_template_rows": null,
       "height": null,
       "justify_content": null,
       "justify_items": null,
       "left": null,
       "margin": null,
       "max_height": null,
       "max_width": null,
       "min_height": null,
       "min_width": null,
       "object_fit": null,
       "object_position": null,
       "order": null,
       "overflow": null,
       "overflow_x": null,
       "overflow_y": null,
       "padding": null,
       "right": null,
       "top": null,
       "visibility": null,
       "width": null
      }
     },
     "689bfb96877049c19bdae6c42c69c280": {
      "model_module": "@jupyter-widgets/controls",
      "model_module_version": "1.5.0",
      "model_name": "HTMLModel",
      "state": {
       "_dom_classes": [],
       "_model_module": "@jupyter-widgets/controls",
       "_model_module_version": "1.5.0",
       "_model_name": "HTMLModel",
       "_view_count": null,
       "_view_module": "@jupyter-widgets/controls",
       "_view_module_version": "1.5.0",
       "_view_name": "HTMLView",
       "description": "",
       "description_tooltip": null,
       "layout": "IPY_MODEL_7938455477da4d94847fb16f8652dd32",
       "placeholder": "​",
       "style": "IPY_MODEL_3a6830a297f94cf78da43095b8d90caf",
       "value": " 996k/996k [00:00&lt;00:00, 1.47MB/s]"
      }
     },
     "71ae033c35774f6eb8e294b50278667d": {
      "model_module": "@jupyter-widgets/controls",
      "model_module_version": "1.5.0",
      "model_name": "DescriptionStyleModel",
      "state": {
       "_model_module": "@jupyter-widgets/controls",
       "_model_module_version": "1.5.0",
       "_model_name": "DescriptionStyleModel",
       "_view_count": null,
       "_view_module": "@jupyter-widgets/base",
       "_view_module_version": "1.2.0",
       "_view_name": "StyleView",
       "description_width": ""
      }
     },
     "7938455477da4d94847fb16f8652dd32": {
      "model_module": "@jupyter-widgets/base",
      "model_module_version": "1.2.0",
      "model_name": "LayoutModel",
      "state": {
       "_model_module": "@jupyter-widgets/base",
       "_model_module_version": "1.2.0",
       "_model_name": "LayoutModel",
       "_view_count": null,
       "_view_module": "@jupyter-widgets/base",
       "_view_module_version": "1.2.0",
       "_view_name": "LayoutView",
       "align_content": null,
       "align_items": null,
       "align_self": null,
       "border": null,
       "bottom": null,
       "display": null,
       "flex": null,
       "flex_flow": null,
       "grid_area": null,
       "grid_auto_columns": null,
       "grid_auto_flow": null,
       "grid_auto_rows": null,
       "grid_column": null,
       "grid_gap": null,
       "grid_row": null,
       "grid_template_areas": null,
       "grid_template_columns": null,
       "grid_template_rows": null,
       "height": null,
       "justify_content": null,
       "justify_items": null,
       "left": null,
       "margin": null,
       "max_height": null,
       "max_width": null,
       "min_height": null,
       "min_width": null,
       "object_fit": null,
       "object_position": null,
       "order": null,
       "overflow": null,
       "overflow_x": null,
       "overflow_y": null,
       "padding": null,
       "right": null,
       "top": null,
       "visibility": null,
       "width": null
      }
     },
     "7fb23c1b438b4dbaa07c09d69082380a": {
      "model_module": "@jupyter-widgets/controls",
      "model_module_version": "1.5.0",
      "model_name": "DescriptionStyleModel",
      "state": {
       "_model_module": "@jupyter-widgets/controls",
       "_model_module_version": "1.5.0",
       "_model_name": "DescriptionStyleModel",
       "_view_count": null,
       "_view_module": "@jupyter-widgets/base",
       "_view_module_version": "1.2.0",
       "_view_name": "StyleView",
       "description_width": ""
      }
     },
     "8a1224bfe05441c1b97a96688d38ee99": {
      "model_module": "@jupyter-widgets/base",
      "model_module_version": "1.2.0",
      "model_name": "LayoutModel",
      "state": {
       "_model_module": "@jupyter-widgets/base",
       "_model_module_version": "1.2.0",
       "_model_name": "LayoutModel",
       "_view_count": null,
       "_view_module": "@jupyter-widgets/base",
       "_view_module_version": "1.2.0",
       "_view_name": "LayoutView",
       "align_content": null,
       "align_items": null,
       "align_self": null,
       "border": null,
       "bottom": null,
       "display": null,
       "flex": null,
       "flex_flow": null,
       "grid_area": null,
       "grid_auto_columns": null,
       "grid_auto_flow": null,
       "grid_auto_rows": null,
       "grid_column": null,
       "grid_gap": null,
       "grid_row": null,
       "grid_template_areas": null,
       "grid_template_columns": null,
       "grid_template_rows": null,
       "height": null,
       "justify_content": null,
       "justify_items": null,
       "left": null,
       "margin": null,
       "max_height": null,
       "max_width": null,
       "min_height": null,
       "min_width": null,
       "object_fit": null,
       "object_position": null,
       "order": null,
       "overflow": null,
       "overflow_x": null,
       "overflow_y": null,
       "padding": null,
       "right": null,
       "top": null,
       "visibility": null,
       "width": null
      }
     },
     "94a848468cb249dd95c348b818ed14aa": {
      "model_module": "@jupyter-widgets/controls",
      "model_module_version": "1.5.0",
      "model_name": "HBoxModel",
      "state": {
       "_dom_classes": [],
       "_model_module": "@jupyter-widgets/controls",
       "_model_module_version": "1.5.0",
       "_model_name": "HBoxModel",
       "_view_count": null,
       "_view_module": "@jupyter-widgets/controls",
       "_view_module_version": "1.5.0",
       "_view_name": "HBoxView",
       "box_style": "",
       "children": [
        "IPY_MODEL_f94319beee034768b0cffe7ef81f21ed",
        "IPY_MODEL_1c1cec58f6674343b6c334364d0bbc28"
       ],
       "layout": "IPY_MODEL_dab9cd83840144f08b9b36def1d4ccbb"
      }
     },
     "968d0f79f56f4637a3d30a6eea953014": {
      "model_module": "@jupyter-widgets/controls",
      "model_module_version": "1.5.0",
      "model_name": "FloatProgressModel",
      "state": {
       "_dom_classes": [],
       "_model_module": "@jupyter-widgets/controls",
       "_model_module_version": "1.5.0",
       "_model_name": "FloatProgressModel",
       "_view_count": null,
       "_view_module": "@jupyter-widgets/controls",
       "_view_module_version": "1.5.0",
       "_view_name": "ProgressView",
       "bar_style": "success",
       "description": "Downloading: 100%",
       "description_tooltip": null,
       "layout": "IPY_MODEL_cf7179943c164246aca04e3c393f0ba5",
       "max": 995526,
       "min": 0,
       "orientation": "horizontal",
       "style": "IPY_MODEL_57b74e89b7ec433aa9ccda02e01b46c9",
       "value": 995526
      }
     },
     "b7311255048e42498ff5bc807a72b7a9": {
      "model_module": "@jupyter-widgets/controls",
      "model_module_version": "1.5.0",
      "model_name": "FloatProgressModel",
      "state": {
       "_dom_classes": [],
       "_model_module": "@jupyter-widgets/controls",
       "_model_module_version": "1.5.0",
       "_model_name": "FloatProgressModel",
       "_view_count": null,
       "_view_module": "@jupyter-widgets/controls",
       "_view_module_version": "1.5.0",
       "_view_name": "ProgressView",
       "bar_style": "success",
       "description": "Downloading: 100%",
       "description_tooltip": null,
       "layout": "IPY_MODEL_8a1224bfe05441c1b97a96688d38ee99",
       "max": 625,
       "min": 0,
       "orientation": "horizontal",
       "style": "IPY_MODEL_c3b95376e1d847d89b02e2c0f8058b4b",
       "value": 625
      }
     },
     "c3b95376e1d847d89b02e2c0f8058b4b": {
      "model_module": "@jupyter-widgets/controls",
      "model_module_version": "1.5.0",
      "model_name": "ProgressStyleModel",
      "state": {
       "_model_module": "@jupyter-widgets/controls",
       "_model_module_version": "1.5.0",
       "_model_name": "ProgressStyleModel",
       "_view_count": null,
       "_view_module": "@jupyter-widgets/base",
       "_view_module_version": "1.2.0",
       "_view_name": "StyleView",
       "bar_color": null,
       "description_width": "initial"
      }
     },
     "c45e769fc7014468bf840a92abffcfe8": {
      "model_module": "@jupyter-widgets/controls",
      "model_module_version": "1.5.0",
      "model_name": "HBoxModel",
      "state": {
       "_dom_classes": [],
       "_model_module": "@jupyter-widgets/controls",
       "_model_module_version": "1.5.0",
       "_model_name": "HBoxModel",
       "_view_count": null,
       "_view_module": "@jupyter-widgets/controls",
       "_view_module_version": "1.5.0",
       "_view_name": "HBoxView",
       "box_style": "",
       "children": [
        "IPY_MODEL_968d0f79f56f4637a3d30a6eea953014",
        "IPY_MODEL_689bfb96877049c19bdae6c42c69c280"
       ],
       "layout": "IPY_MODEL_1715102f4e624236ad4de87d0fc0085d"
      }
     },
     "cf7179943c164246aca04e3c393f0ba5": {
      "model_module": "@jupyter-widgets/base",
      "model_module_version": "1.2.0",
      "model_name": "LayoutModel",
      "state": {
       "_model_module": "@jupyter-widgets/base",
       "_model_module_version": "1.2.0",
       "_model_name": "LayoutModel",
       "_view_count": null,
       "_view_module": "@jupyter-widgets/base",
       "_view_module_version": "1.2.0",
       "_view_name": "LayoutView",
       "align_content": null,
       "align_items": null,
       "align_self": null,
       "border": null,
       "bottom": null,
       "display": null,
       "flex": null,
       "flex_flow": null,
       "grid_area": null,
       "grid_auto_columns": null,
       "grid_auto_flow": null,
       "grid_auto_rows": null,
       "grid_column": null,
       "grid_gap": null,
       "grid_row": null,
       "grid_template_areas": null,
       "grid_template_columns": null,
       "grid_template_rows": null,
       "height": null,
       "justify_content": null,
       "justify_items": null,
       "left": null,
       "margin": null,
       "max_height": null,
       "max_width": null,
       "min_height": null,
       "min_width": null,
       "object_fit": null,
       "object_position": null,
       "order": null,
       "overflow": null,
       "overflow_x": null,
       "overflow_y": null,
       "padding": null,
       "right": null,
       "top": null,
       "visibility": null,
       "width": null
      }
     },
     "dab9cd83840144f08b9b36def1d4ccbb": {
      "model_module": "@jupyter-widgets/base",
      "model_module_version": "1.2.0",
      "model_name": "LayoutModel",
      "state": {
       "_model_module": "@jupyter-widgets/base",
       "_model_module_version": "1.2.0",
       "_model_name": "LayoutModel",
       "_view_count": null,
       "_view_module": "@jupyter-widgets/base",
       "_view_module_version": "1.2.0",
       "_view_name": "LayoutView",
       "align_content": null,
       "align_items": null,
       "align_self": null,
       "border": null,
       "bottom": null,
       "display": null,
       "flex": null,
       "flex_flow": null,
       "grid_area": null,
       "grid_auto_columns": null,
       "grid_auto_flow": null,
       "grid_auto_rows": null,
       "grid_column": null,
       "grid_gap": null,
       "grid_row": null,
       "grid_template_areas": null,
       "grid_template_columns": null,
       "grid_template_rows": null,
       "height": null,
       "justify_content": null,
       "justify_items": null,
       "left": null,
       "margin": null,
       "max_height": null,
       "max_width": null,
       "min_height": null,
       "min_width": null,
       "object_fit": null,
       "object_position": null,
       "order": null,
       "overflow": null,
       "overflow_x": null,
       "overflow_y": null,
       "padding": null,
       "right": null,
       "top": null,
       "visibility": null,
       "width": null
      }
     },
     "dd20d9c2cb094cc8adc3274da66a2f73": {
      "model_module": "@jupyter-widgets/base",
      "model_module_version": "1.2.0",
      "model_name": "LayoutModel",
      "state": {
       "_model_module": "@jupyter-widgets/base",
       "_model_module_version": "1.2.0",
       "_model_name": "LayoutModel",
       "_view_count": null,
       "_view_module": "@jupyter-widgets/base",
       "_view_module_version": "1.2.0",
       "_view_name": "LayoutView",
       "align_content": null,
       "align_items": null,
       "align_self": null,
       "border": null,
       "bottom": null,
       "display": null,
       "flex": null,
       "flex_flow": null,
       "grid_area": null,
       "grid_auto_columns": null,
       "grid_auto_flow": null,
       "grid_auto_rows": null,
       "grid_column": null,
       "grid_gap": null,
       "grid_row": null,
       "grid_template_areas": null,
       "grid_template_columns": null,
       "grid_template_rows": null,
       "height": null,
       "justify_content": null,
       "justify_items": null,
       "left": null,
       "margin": null,
       "max_height": null,
       "max_width": null,
       "min_height": null,
       "min_width": null,
       "object_fit": null,
       "object_position": null,
       "order": null,
       "overflow": null,
       "overflow_x": null,
       "overflow_y": null,
       "padding": null,
       "right": null,
       "top": null,
       "visibility": null,
       "width": null
      }
     },
     "f6790f941e744de89c843b9aafc31d0b": {
      "model_module": "@jupyter-widgets/controls",
      "model_module_version": "1.5.0",
      "model_name": "ProgressStyleModel",
      "state": {
       "_model_module": "@jupyter-widgets/controls",
       "_model_module_version": "1.5.0",
       "_model_name": "ProgressStyleModel",
       "_view_count": null,
       "_view_module": "@jupyter-widgets/base",
       "_view_module_version": "1.2.0",
       "_view_name": "StyleView",
       "bar_color": null,
       "description_width": "initial"
      }
     },
     "f94319beee034768b0cffe7ef81f21ed": {
      "model_module": "@jupyter-widgets/controls",
      "model_module_version": "1.5.0",
      "model_name": "FloatProgressModel",
      "state": {
       "_dom_classes": [],
       "_model_module": "@jupyter-widgets/controls",
       "_model_module_version": "1.5.0",
       "_model_name": "FloatProgressModel",
       "_view_count": null,
       "_view_module": "@jupyter-widgets/controls",
       "_view_module_version": "1.5.0",
       "_view_name": "ProgressView",
       "bar_style": "success",
       "description": "Downloading: 100%",
       "description_tooltip": null,
       "layout": "IPY_MODEL_08af6c7f881f4b1a96f90588dc8cb2c2",
       "max": 1083389348,
       "min": 0,
       "orientation": "horizontal",
       "style": "IPY_MODEL_f6790f941e744de89c843b9aafc31d0b",
       "value": 1083389348
      }
     }
    },
    "version_major": 2,
    "version_minor": 0
   }
  }
 },
 "nbformat": 4,
 "nbformat_minor": 4
}
