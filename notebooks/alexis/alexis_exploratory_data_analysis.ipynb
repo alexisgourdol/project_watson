{
 "cells": [
  {
   "cell_type": "markdown",
   "metadata": {},
   "source": [
    "### Where is the data ? How does it look like?"
   ]
  },
  {
   "cell_type": "markdown",
   "metadata": {},
   "source": [
    "[The data is available here on GitHub](https://drive.google.com/drive/folders/1CujnTxmaUATHlQvpjxwbdZxNEpJOygq8?usp=sharing) ||\n",
    "[or here on Gdrive](https://drive.google.com/drive/folders/1CujnTxmaUATHlQvpjxwbdZxNEpJOygq8?usp=sharing)"
   ]
  },
  {
   "cell_type": "code",
   "execution_count": 1,
   "metadata": {},
   "outputs": [],
   "source": [
    "import numpy as np\n",
    "import pandas as pd\n",
    "import matplotlib.pyplot as plt"
   ]
  },
  {
   "cell_type": "code",
   "execution_count": 2,
   "metadata": {},
   "outputs": [],
   "source": [
    "pd.set_option('display.max_colwidth', None)\n",
    "data = pd.read_csv('./train.csv').set_index('id')"
   ]
  },
  {
   "cell_type": "code",
   "execution_count": 3,
   "metadata": {
    "scrolled": true
   },
   "outputs": [
    {
     "data": {
      "text/html": [
       "<div>\n",
       "<style scoped>\n",
       "    .dataframe tbody tr th:only-of-type {\n",
       "        vertical-align: middle;\n",
       "    }\n",
       "\n",
       "    .dataframe tbody tr th {\n",
       "        vertical-align: top;\n",
       "    }\n",
       "\n",
       "    .dataframe thead th {\n",
       "        text-align: right;\n",
       "    }\n",
       "</style>\n",
       "<table border=\"1\" class=\"dataframe\">\n",
       "  <thead>\n",
       "    <tr style=\"text-align: right;\">\n",
       "      <th></th>\n",
       "      <th>premise</th>\n",
       "      <th>hypothesis</th>\n",
       "      <th>lang_abv</th>\n",
       "      <th>language</th>\n",
       "      <th>label</th>\n",
       "    </tr>\n",
       "    <tr>\n",
       "      <th>id</th>\n",
       "      <th></th>\n",
       "      <th></th>\n",
       "      <th></th>\n",
       "      <th></th>\n",
       "      <th></th>\n",
       "    </tr>\n",
       "  </thead>\n",
       "  <tbody>\n",
       "    <tr>\n",
       "      <th>5130fd2cb5</th>\n",
       "      <td>and these comments were considered in formulating the interim rules.</td>\n",
       "      <td>The rules developed in the interim were put together with these comments in mind.</td>\n",
       "      <td>en</td>\n",
       "      <td>English</td>\n",
       "      <td>0</td>\n",
       "    </tr>\n",
       "    <tr>\n",
       "      <th>5b72532a0b</th>\n",
       "      <td>These are issues that we wrestle with in practice groups of law firms, she said.</td>\n",
       "      <td>Practice groups are not permitted to work on these issues.</td>\n",
       "      <td>en</td>\n",
       "      <td>English</td>\n",
       "      <td>2</td>\n",
       "    </tr>\n",
       "    <tr>\n",
       "      <th>3931fbe82a</th>\n",
       "      <td>Des petites choses comme celles-là font une différence énorme dans ce que j'essaye de faire.</td>\n",
       "      <td>J'essayais d'accomplir quelque chose.</td>\n",
       "      <td>fr</td>\n",
       "      <td>French</td>\n",
       "      <td>0</td>\n",
       "    </tr>\n",
       "  </tbody>\n",
       "</table>\n",
       "</div>"
      ],
      "text/plain": [
       "                                                                                                 premise  \\\n",
       "id                                                                                                         \n",
       "5130fd2cb5                          and these comments were considered in formulating the interim rules.   \n",
       "5b72532a0b             These are issues that we wrestle with in practice groups of law firms, she said.    \n",
       "3931fbe82a  Des petites choses comme celles-là font une différence énorme dans ce que j'essaye de faire.   \n",
       "\n",
       "                                                                                   hypothesis  \\\n",
       "id                                                                                              \n",
       "5130fd2cb5  The rules developed in the interim were put together with these comments in mind.   \n",
       "5b72532a0b                         Practice groups are not permitted to work on these issues.   \n",
       "3931fbe82a                                              J'essayais d'accomplir quelque chose.   \n",
       "\n",
       "           lang_abv language  label  \n",
       "id                                   \n",
       "5130fd2cb5       en  English      0  \n",
       "5b72532a0b       en  English      2  \n",
       "3931fbe82a       fr   French      0  "
      ]
     },
     "execution_count": 3,
     "metadata": {},
     "output_type": "execute_result"
    }
   ],
   "source": [
    "data.head(3)"
   ]
  },
  {
   "cell_type": "code",
   "execution_count": 4,
   "metadata": {},
   "outputs": [
    {
     "data": {
      "text/html": [
       "<div>\n",
       "<style scoped>\n",
       "    .dataframe tbody tr th:only-of-type {\n",
       "        vertical-align: middle;\n",
       "    }\n",
       "\n",
       "    .dataframe tbody tr th {\n",
       "        vertical-align: top;\n",
       "    }\n",
       "\n",
       "    .dataframe thead th {\n",
       "        text-align: right;\n",
       "    }\n",
       "</style>\n",
       "<table border=\"1\" class=\"dataframe\">\n",
       "  <thead>\n",
       "    <tr style=\"text-align: right;\">\n",
       "      <th></th>\n",
       "      <th>ed9d9e8ec2</th>\n",
       "    </tr>\n",
       "  </thead>\n",
       "  <tbody>\n",
       "    <tr>\n",
       "      <th>premise</th>\n",
       "      <td>Well, we've just got to get down to it, that's all.</td>\n",
       "    </tr>\n",
       "    <tr>\n",
       "      <th>hypothesis</th>\n",
       "      <td>We should take a break from this.</td>\n",
       "    </tr>\n",
       "    <tr>\n",
       "      <th>label</th>\n",
       "      <td>2</td>\n",
       "    </tr>\n",
       "  </tbody>\n",
       "</table>\n",
       "</div>"
      ],
      "text/plain": [
       "                                                     ed9d9e8ec2\n",
       "premise     Well, we've just got to get down to it, that's all.\n",
       "hypothesis                    We should take a break from this.\n",
       "label                                                         2"
      ]
     },
     "execution_count": 4,
     "metadata": {},
     "output_type": "execute_result"
    }
   ],
   "source": [
    "pd.DataFrame(data.loc['ed9d9e8ec2', ['premise','hypothesis', 'label']])"
   ]
  },
  {
   "cell_type": "markdown",
   "metadata": {},
   "source": [
    "### What are we manipulating? What is the goal ?"
   ]
  },
  {
   "cell_type": "markdown",
   "metadata": {
    "heading_collapsed": true
   },
   "source": [
    "#### ========= THE X ========= "
   ]
  },
  {
   "cell_type": "markdown",
   "metadata": {
    "hidden": true
   },
   "source": [
    "The features in the dataset are:\n",
    " - the `id`\n",
    " - the `premise`\n",
    " - the `hypothesis`\n",
    " - the `lang_abv`\n",
    " - the `language`\n",
    " \n",
    "We have **12 120** observations in the training set. \n",
    "\n",
    "The main thing is to understand that for each observation we<br> have a <font color=blue>**pair of 1 premise and 1 hypothesis**</font>\n",
    " - Premises and hypotheses are text\n",
    " - Each pair (premise, hypothesis)\n",
    " \n",
    "<font color=blue>The goal is to understand how these 2 pieces of text relate to each other</font>"
   ]
  },
  {
   "cell_type": "markdown",
   "metadata": {
    "heading_collapsed": true
   },
   "source": [
    "#### ========= THE y ========= "
   ]
  },
  {
   "cell_type": "markdown",
   "metadata": {
    "hidden": true
   },
   "source": [
    "This is a **classification** project. The target can have 3 labels :\n",
    " - `0`: means that the _premise_ and the _hypothesis_ strongly **agree** with each other \n",
    "<br> you could see it as _synonym sentences_"
   ]
  },
  {
   "cell_type": "markdown",
   "metadata": {
    "hidden": true
   },
   "source": [
    " - `1`: means that the _premise_ and the _hypothesis_ are not much related \n",
    " <br>you could see it as _neutral sentences_"
   ]
  },
  {
   "cell_type": "markdown",
   "metadata": {
    "hidden": true
   },
   "source": [
    " - `2`: means that the _premise_ and the _hypothesis_ are  **opposed** \n",
    " <br> you could see it as _antonym sentences_"
   ]
  },
  {
   "cell_type": "code",
   "execution_count": 5,
   "metadata": {
    "hidden": true
   },
   "outputs": [
    {
     "data": {
      "text/html": [
       "<div>\n",
       "<style scoped>\n",
       "    .dataframe tbody tr th:only-of-type {\n",
       "        vertical-align: middle;\n",
       "    }\n",
       "\n",
       "    .dataframe tbody tr th {\n",
       "        vertical-align: top;\n",
       "    }\n",
       "\n",
       "    .dataframe thead th {\n",
       "        text-align: right;\n",
       "    }\n",
       "</style>\n",
       "<table border=\"1\" class=\"dataframe\">\n",
       "  <thead>\n",
       "    <tr style=\"text-align: right;\">\n",
       "      <th></th>\n",
       "      <th>e70456a114</th>\n",
       "    </tr>\n",
       "  </thead>\n",
       "  <tbody>\n",
       "    <tr>\n",
       "      <th>premise</th>\n",
       "      <td>The story of the technology business gets spiced up because the reality is so bland.</td>\n",
       "    </tr>\n",
       "    <tr>\n",
       "      <th>hypothesis</th>\n",
       "      <td>Reality is so bland that the technology business gets spiced up.</td>\n",
       "    </tr>\n",
       "    <tr>\n",
       "      <th>label</th>\n",
       "      <td>0</td>\n",
       "    </tr>\n",
       "  </tbody>\n",
       "</table>\n",
       "</div>"
      ],
      "text/plain": [
       "                                                                                      e70456a114\n",
       "premise     The story of the technology business gets spiced up because the reality is so bland.\n",
       "hypothesis                      Reality is so bland that the technology business gets spiced up.\n",
       "label                                                                                          0"
      ]
     },
     "execution_count": 5,
     "metadata": {},
     "output_type": "execute_result"
    }
   ],
   "source": [
    "pd.DataFrame(data.loc['e70456a114', ['premise','hypothesis', 'label']])"
   ]
  },
  {
   "cell_type": "code",
   "execution_count": 6,
   "metadata": {
    "hidden": true
   },
   "outputs": [
    {
     "data": {
      "text/html": [
       "<div>\n",
       "<style scoped>\n",
       "    .dataframe tbody tr th:only-of-type {\n",
       "        vertical-align: middle;\n",
       "    }\n",
       "\n",
       "    .dataframe tbody tr th {\n",
       "        vertical-align: top;\n",
       "    }\n",
       "\n",
       "    .dataframe thead th {\n",
       "        text-align: right;\n",
       "    }\n",
       "</style>\n",
       "<table border=\"1\" class=\"dataframe\">\n",
       "  <thead>\n",
       "    <tr style=\"text-align: right;\">\n",
       "      <th></th>\n",
       "      <th>39ea2c1e23</th>\n",
       "    </tr>\n",
       "  </thead>\n",
       "  <tbody>\n",
       "    <tr>\n",
       "      <th>premise</th>\n",
       "      <td>-concevoir, dessiner et coudre à la main tous ces costumes magnifiques tels que les robes d'époque de Mary Todd à Abe Lincoln en Illinois et les robes de bal dans A Christmas Carol.</td>\n",
       "    </tr>\n",
       "    <tr>\n",
       "      <th>hypothesis</th>\n",
       "      <td>Les costumes n'étaient travaillés que par des mains humaines.</td>\n",
       "    </tr>\n",
       "    <tr>\n",
       "      <th>label</th>\n",
       "      <td>1</td>\n",
       "    </tr>\n",
       "  </tbody>\n",
       "</table>\n",
       "</div>"
      ],
      "text/plain": [
       "                                                                                                                                                                                       39ea2c1e23\n",
       "premise     -concevoir, dessiner et coudre à la main tous ces costumes magnifiques tels que les robes d'époque de Mary Todd à Abe Lincoln en Illinois et les robes de bal dans A Christmas Carol.\n",
       "hypothesis                                                                                                                          Les costumes n'étaient travaillés que par des mains humaines.\n",
       "label                                                                                                                                                                                           1"
      ]
     },
     "execution_count": 6,
     "metadata": {},
     "output_type": "execute_result"
    }
   ],
   "source": [
    "pd.DataFrame(data.loc['39ea2c1e23', ['premise','hypothesis', 'label']])"
   ]
  },
  {
   "cell_type": "code",
   "execution_count": 7,
   "metadata": {
    "hidden": true
   },
   "outputs": [
    {
     "data": {
      "text/html": [
       "<div>\n",
       "<style scoped>\n",
       "    .dataframe tbody tr th:only-of-type {\n",
       "        vertical-align: middle;\n",
       "    }\n",
       "\n",
       "    .dataframe tbody tr th {\n",
       "        vertical-align: top;\n",
       "    }\n",
       "\n",
       "    .dataframe thead th {\n",
       "        text-align: right;\n",
       "    }\n",
       "</style>\n",
       "<table border=\"1\" class=\"dataframe\">\n",
       "  <thead>\n",
       "    <tr style=\"text-align: right;\">\n",
       "      <th></th>\n",
       "      <th>ed9d9e8ec2</th>\n",
       "    </tr>\n",
       "  </thead>\n",
       "  <tbody>\n",
       "    <tr>\n",
       "      <th>premise</th>\n",
       "      <td>Well, we've just got to get down to it, that's all.</td>\n",
       "    </tr>\n",
       "    <tr>\n",
       "      <th>hypothesis</th>\n",
       "      <td>We should take a break from this.</td>\n",
       "    </tr>\n",
       "    <tr>\n",
       "      <th>label</th>\n",
       "      <td>2</td>\n",
       "    </tr>\n",
       "  </tbody>\n",
       "</table>\n",
       "</div>"
      ],
      "text/plain": [
       "                                                     ed9d9e8ec2\n",
       "premise     Well, we've just got to get down to it, that's all.\n",
       "hypothesis                    We should take a break from this.\n",
       "label                                                         2"
      ]
     },
     "execution_count": 7,
     "metadata": {},
     "output_type": "execute_result"
    }
   ],
   "source": [
    "pd.DataFrame(data.loc['ed9d9e8ec2', ['premise','hypothesis', 'label']])"
   ]
  },
  {
   "cell_type": "markdown",
   "metadata": {},
   "source": [
    "### Quick EDA"
   ]
  },
  {
   "cell_type": "markdown",
   "metadata": {},
   "source": [
    "Clean dataset, there is **no missing value and no duplicates**"
   ]
  },
  {
   "cell_type": "markdown",
   "metadata": {},
   "source": [
    "<img src=\"report-snippet 1.png\" alt=\"Overview\" title=\"Overview\" />\n",
    "<img src=\"report-snippet 2.png\" alt=\"No NaNs\" title=\"No NaNs\" />"
   ]
  },
  {
   "cell_type": "code",
   "execution_count": 8,
   "metadata": {
    "collapsed": true
   },
   "outputs": [
    {
     "data": {
      "application/vnd.jupyter.widget-view+json": {
       "model_id": "86597bb9bb084fc3824d4c6e72cb1205",
       "version_major": 2,
       "version_minor": 0
      },
      "text/plain": [
       "HBox(children=(FloatProgress(value=0.0, description='Summarize dataset', max=20.0, style=ProgressStyle(descrip…"
      ]
     },
     "metadata": {},
     "output_type": "display_data"
    },
    {
     "name": "stdout",
     "output_type": "stream",
     "text": [
      "\n"
     ]
    },
    {
     "data": {
      "application/vnd.jupyter.widget-view+json": {
       "model_id": "bab6522e15814c559ff3064ddcfcf5d9",
       "version_major": 2,
       "version_minor": 0
      },
      "text/plain": [
       "HBox(children=(FloatProgress(value=0.0, description='Generate report structure', max=1.0, style=ProgressStyle(…"
      ]
     },
     "metadata": {},
     "output_type": "display_data"
    },
    {
     "name": "stdout",
     "output_type": "stream",
     "text": [
      "\n"
     ]
    },
    {
     "data": {
      "application/vnd.jupyter.widget-view+json": {
       "model_id": "79a3a0fc52764b6b82d7bca8789d8ec6",
       "version_major": 2,
       "version_minor": 0
      },
      "text/plain": [
       "HBox(children=(FloatProgress(value=0.0, description='Render HTML', max=1.0, style=ProgressStyle(description_wi…"
      ]
     },
     "metadata": {},
     "output_type": "display_data"
    },
    {
     "name": "stdout",
     "output_type": "stream",
     "text": [
      "\n"
     ]
    },
    {
     "data": {
      "application/vnd.jupyter.widget-view+json": {
       "model_id": "940a146d6db1445eae1860ec85654f0c",
       "version_major": 2,
       "version_minor": 0
      },
      "text/plain": [
       "HBox(children=(FloatProgress(value=0.0, description='Export report to file', max=1.0, style=ProgressStyle(desc…"
      ]
     },
     "metadata": {},
     "output_type": "display_data"
    },
    {
     "name": "stdout",
     "output_type": "stream",
     "text": [
      "\n"
     ]
    }
   ],
   "source": [
    "from pandas_profiling import ProfileReport\n",
    "prof = ProfileReport(data)\n",
    "prof.to_file(output_file='report.html')"
   ]
  },
  {
   "cell_type": "code",
   "execution_count": 9,
   "metadata": {},
   "outputs": [
    {
     "name": "stdout",
     "output_type": "stream",
     "text": [
      "The shape of X is :  (12120, 4)\n",
      "The columns of X are :  Index(['premise', 'hypothesis', 'lang_abv', 'language'], dtype='object')\n",
      "\n",
      "The shape of y is :  (12120,)\n",
      "The labels of y are : [0, 2, 1]\n"
     ]
    }
   ],
   "source": [
    "X, y = data.drop(columns=['label']), data.label\n",
    "print(f'The shape of X is : ', X.shape)\n",
    "print(f'The columns of X are : ', X.columns)\n",
    "print()\n",
    "print(f'The shape of y is : ', y.shape)\n",
    "print(f'The labels of y are :', list(y.unique()))"
   ]
  },
  {
   "cell_type": "markdown",
   "metadata": {},
   "source": [
    "**Text len distribution**"
   ]
  },
  {
   "cell_type": "code",
   "execution_count": 10,
   "metadata": {},
   "outputs": [],
   "source": [
    "prem_dict = {}\n",
    "for p in data['premise']:\n",
    "    if len(p) not in prem_dict:\n",
    "        prem_dict[len(p)] = 1\n",
    "    prem_dict[len(p)] += 1\n",
    "    \n",
    "hyp_dict = {}\n",
    "for h in data['hypothesis']:\n",
    "    if len(h) not in hyp_dict:\n",
    "        hyp_dict[len(h)] = 1\n",
    "    hyp_dict[len(h)] += 1"
   ]
  },
  {
   "cell_type": "code",
   "execution_count": 11,
   "metadata": {
    "scrolled": true
   },
   "outputs": [
    {
     "data": {
      "image/png": "[encoded data removed]",
      "text/plain": [
       "<Figure size 1080x360 with 2 Axes>"
      ]
     },
     "metadata": {},
     "output_type": "display_data"
    }
   ],
   "source": [
    "import seaborn as sns\n",
    "fig, axs = plt.subplots(1, 2, figsize=(15,5))\n",
    "\n",
    "# distribution on Premises\n",
    "sns.distplot(pd.DataFrame.from_dict(prem_dict, orient='index').sort_index().reset_index(), bins=10, ax=axs[0])\n",
    "axs[0].set_title('Premises words count distribution')\n",
    "\n",
    "# distribution on Hypothesis\n",
    "sns.distplot(pd.DataFrame.from_dict(hyp_dict, orient='index').sort_index().reset_index(), bins=10, ax=axs[1])\n",
    "axs[1].set_title('Hypothesis words count distribution')\n",
    "plt.show()"
   ]
  },
  {
   "cell_type": "markdown",
   "metadata": {},
   "source": [
    "**Language split**"
   ]
  },
  {
   "cell_type": "code",
   "execution_count": 12,
   "metadata": {
    "scrolled": false
   },
   "outputs": [
    {
     "data": {
      "image/png": "[encoded data removed]",
      "text/plain": [
       "<Figure size 1080x360 with 1 Axes>"
      ]
     },
     "metadata": {},
     "output_type": "display_data"
    }
   ],
   "source": [
    "fig = plt.figure(figsize=(15,5))\n",
    "plt.bar(data['language'].value_counts(normalize=True).index, data['language'].value_counts(normalize=True).values)\n",
    "plt.title('Split in %age of the X between language')\n",
    "plt.show()"
   ]
  },
  {
   "cell_type": "code",
   "execution_count": 13,
   "metadata": {
    "scrolled": false
   },
   "outputs": [
    {
     "data": {
      "image/png": "[encoded data removed]",
      "text/plain": [
       "<Figure size 1080x360 with 1 Axes>"
      ]
     },
     "metadata": {},
     "output_type": "display_data"
    }
   ],
   "source": [
    "data_non_en = data[data['language'] != 'English']\n",
    "fig = plt.figure(figsize=(15,5))\n",
    "plt.bar(data_non_en['language'].value_counts().index, data_non_en['language'].value_counts().values)\n",
    "plt.title('Split in %age of the X between language WITHOUT ENGLISH')\n",
    "plt.show()"
   ]
  },
  {
   "cell_type": "markdown",
   "metadata": {},
   "source": [
    "### Plan to tackle the project and potential complications"
   ]
  },
  {
   "cell_type": "markdown",
   "metadata": {},
   "source": [
    "**BERT** model https://medium.com/analytics-vidhya/bert-for-everyone-f876f3bd3383"
   ]
  },
  {
   "cell_type": "markdown",
   "metadata": {},
   "source": [
    "**Complications** : maybe some char recognition in foreign alphabets ? reliability of the input data ? sometimes there is no clear cut between 1 and one alternative value"
   ]
  }
 ],
 "metadata": {
  "kernelspec": {
   "display_name": "Python 3",
   "language": "python",
   "name": "python3"
  },
  "language_info": {
   "codemirror_mode": {
    "name": "ipython",
    "version": 3
   },
   "file_extension": ".py",
   "mimetype": "text/x-python",
   "name": "python",
   "nbconvert_exporter": "python",
   "pygments_lexer": "ipython3",
   "version": "3.7.7"
  },
  "toc": {
   "base_numbering": 1,
   "nav_menu": {},
   "number_sections": false,
   "sideBar": true,
   "skip_h1_title": false,
   "title_cell": "Table of Contents",
   "title_sidebar": "Contents",
   "toc_cell": false,
   "toc_position": {},
   "toc_section_display": true,
   "toc_window_display": false
  }
 },
 "nbformat": 4,
 "nbformat_minor": 4
}
